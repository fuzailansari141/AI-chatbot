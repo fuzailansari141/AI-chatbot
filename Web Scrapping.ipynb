{
 "cells": [
  {
   "cell_type": "code",
   "execution_count": 1,
   "id": "e3d87f34",
   "metadata": {},
   "outputs": [],
   "source": [
    "#Import necessary libraries for web scrapping\n",
    "import requests\n",
    "from bs4 import BeautifulSoup"
   ]
  },
  {
   "cell_type": "code",
   "execution_count": 2,
   "id": "c088a024",
   "metadata": {},
   "outputs": [],
   "source": [
    "#Get request for the link provided\n",
    "r = requests.get(\"https://brainlox.com/courses/category/technical\")"
   ]
  },
  {
   "cell_type": "code",
   "execution_count": 3,
   "id": "bf60eea0",
   "metadata": {},
   "outputs": [],
   "source": [
    "# Parse the HTML content\n",
    "soup = BeautifulSoup(r.content, 'html.parser')"
   ]
  },
  {
   "cell_type": "code",
   "execution_count": 4,
   "id": "eb4ee86f",
   "metadata": {},
   "outputs": [
    {
     "name": "stdout",
     "output_type": "stream",
     "text": [
      "['LEARN SCRATCH PROGRAMING', 'LEARN CLOUD COMPUTING BASICS-AWS', 'LEARN MOBILE DEVELOPMENT', 'LEARN CORE JAVA PROGRAMMING ONLINE', 'LEARN ROBOTICS', 'LEARN JAVASCRIPT', 'LEARN NODE JS', 'LEARN CLOUD COMPUTING ADVANCE-AWS', 'PYTHON PROGRAMMING-BEGINNER', 'Roblox Programming For Beginners', 'PYTHON PROGRAMMING-INTERMEDIATE', 'PYTHON PROGRAMMING-ADVANCE', 'PYTHON PROGRAMMING GROUP CLASSES - BEGINNER', 'Advanced Roblox Scripting Workshop', 'Robotics Adventure Awaits:Join Our Summer Camp for Young Tech Wizards!', 'Java Project-Based Course', 'Artificial Intelligence Adventures: Building AI Chatbot Like Chatgpt (For Kids)', 'Python Playground: Create a Hangman Game', 'Scratch Playground: Create a Maze Game!', 'Artificial Intelligence Essentials: Summer Bootcamp', 'Time Mastery Camp: AI for Jobs, Business, Careers', 'Build Your Own Theme Park in Roblox', 'Java Coding Summer Camp for Young Minds', 'AI Camp for Entrepreneurs: Build Business Success', 'ChatGPT Boot Camp: Basics & Best Uses', 'Create-A-Bot: A Project-Based Robotics Exploration', 'Java & Proramming', 'Chatbot Creators: Design a ChatGPT-like AI', 'Web Development from scratch', 'Summer Camp: Introduction to Python', 'Summer Bootcamp with JavaScript: Real Projects, Real Results', 'AI Secrets Revealed: Master Productivity Hacks That Will Blow Your Mind! (For Kids)', 'AI Disruption: Top Entrepreneurs Harnessing AI for Unprecedented Success! (For Kids)', \"The AI Writer's Masterclass: Innovation and Inspiration in Creative Writing! (For Kids)\", 'Web Development Pro: Intermediate Level', 'Scratch Playground: Create a Scroller Game!', 'AI Pro: Creative Writing Camp for Adults', 'Python Playground: Create Your Own Snake Game', 'Python Playground: Create a Tic Tac Toe Game', 'Build your own Calculator using Python Bootcamp for kids', 'Scratch Playground: Create a Flappy Bird Game!', 'HTML, CSS, JavaScript: 7-Day Summer Bootcamp', 'Hands-on Java: Project-based Learning for Coding Novices', 'Python Playground: Create a Memory Game', 'Summer Bootcamp: 5-Day Scratch Programming for Beginners', '5-Day Summer Camp: Python for Beginners', 'Build a Text analyzer using Python Bootcamp for kids', 'Scratch Playground : Create a Platformer Game!', 'Introduction to Artificial Intelligence!', 'Python Playground: Create a Rock, Paper, Scissors Game', 'AI in Stock Market Success: Career Growth Camp !!', 'From Beginner to AI Pro: Kickstart Your Journey With Artificial Intelligence! (For Kids)', 'Game development using python', 'Build a Image manipulator using Python Bootcamp for kids', 'Build a Weather app using Python Bootcamp for kids', 'Build Your Own Roblox Battle Arena', \"The Millionaire's AI Playbook: Learn How to Predict Stock Prices! (For Kids)\", 'Machine Learning: 7-Day Project-Based Summer Camp', 'AI Pro Camp: Career Growth Catalyst', 'Minecraft Java Programming for Beginners', 'Build a Chatbot using Python Bootcamp for kids', 'Build a Password generator using Python Bootcamp for kids', 'Scratch Playground: Create a Space Game!', 'Create Your Own Roblox Obstacle Course', 'Java Minecraft Creative or Survival Mode', 'AI Camp for Jobs & Business:Build Your own ChatGPT', 'HTML, CSS, JavaScript Essentials: 5-Day Coding Bootcamp']\n"
     ]
    }
   ],
   "source": [
    "# Extract Courses names\n",
    "courses=[]\n",
    "h3_elements=soup.find_all(\"h3\")\n",
    "for h3 in h3_elements:\n",
    "    courses.append(h3.text)\n",
    "courses=courses[:-3]\n",
    "print(courses)"
   ]
  },
  {
   "cell_type": "code",
   "execution_count": 5,
   "id": "5a00c509",
   "metadata": {},
   "outputs": [],
   "source": [
    "#Get all the link for courses Description which is on the next page\n",
    "link=[]\n",
    "# Find all elements with class=\"BookDemo-btn px-2\"\n",
    "elements = soup.find_all(class_=\"BookDemo-btn px-2\")\n",
    "\n",
    "# Iterate through the elements and get their href attributes\n",
    "for element in elements:\n",
    "    if 'href' in element.attrs:\n",
    "        href = element['href']\n",
    "        link.append(href)"
   ]
  },
  {
   "cell_type": "code",
   "execution_count": 6,
   "id": "0d4e81e6",
   "metadata": {},
   "outputs": [
    {
     "data": {
      "text/plain": [
       "['/courses/4f629d96-5ed9-4302-ae0e-3479c543a49e',\n",
       " '/courses/872d1cb6-8469-4797-b267-8c41837b10e2',\n",
       " '/courses/2cf11f62-6452-41f1-9b42-303fb371b873',\n",
       " '/courses/be32e068-edca-4b41-96ee-4839de6aaebb',\n",
       " '/courses/0deafb39-3208-42db-93e3-bd69f8562f82',\n",
       " '/courses/fc9e2faf-dbe1-47bf-994c-f566a9ad3b42',\n",
       " '/courses/b0f2428a-c1c0-4def-8ac2-692a2d51a5b4',\n",
       " '/courses/e0edfcf8-9e0f-4c7a-bc90-3000822924e2',\n",
       " '/courses/fc29b015-962f-41fc-bc93-181d3ed87842',\n",
       " '/courses/fe8f5696-eb0e-48a0-a505-147e9c502b65',\n",
       " '/courses/9101883f-00af-48f7-949a-36cfc60ecfcf',\n",
       " '/courses/f9f7b907-5f4f-472d-a7e1-d44d38255a42',\n",
       " '/courses/cfcf2aa4-e220-4ce7-844e-563ebfaa98bd',\n",
       " '/courses/c5e8d5e8-58cb-4836-94e4-51314ffba4f3',\n",
       " '/courses/cd8e693c-c6a7-4dca-aeb1-4b7cf1dde495',\n",
       " '/courses/6a0fc4c9-2074-4854-ac31-c7dfad9ed932',\n",
       " '/courses/51890aee-163e-4ef7-86ff-fe0d6acba7e1',\n",
       " '/courses/c4bdeda0-9565-4073-9eeb-67f4a79e9ec7',\n",
       " '/courses/cc34d7ec-62ae-4018-b75e-207df98a4300',\n",
       " '/courses/0544dc35-181e-4e75-b26d-69393de68022',\n",
       " '/courses/8ca45c22-2dae-4c21-840c-8c9a177d09b3',\n",
       " '/courses/5d6b48ea-641e-4707-b7cf-c4f270789c9e',\n",
       " '/courses/7ef0ff36-cf58-4ce7-a010-b6bc7350d78a',\n",
       " '/courses/72423503-2e09-4404-92f5-48292dda42e3',\n",
       " '/courses/24e3bb16-bc23-4e6e-a74c-1ed32005cf0f',\n",
       " '/courses/31e70d66-efd5-44fc-929c-7de0e524624b',\n",
       " '/courses/89d301ea-ff81-4224-8d38-a35e8575bffd',\n",
       " '/courses/1af061fc-0890-40ac-98ae-01285283c5ff',\n",
       " '/courses/37b3b505-f8ca-4fd6-92e1-56da829f1805',\n",
       " '/courses/9829d760-3d63-456a-a1d3-25b96e554819',\n",
       " '/courses/189a9ef3-be9d-4b42-a09c-75665fa36e3e',\n",
       " '/courses/af72f1d6-ee1b-48ba-a217-30985c593bb5',\n",
       " '/courses/88ac0ed1-e388-41c9-a1b4-bd82beb52c10',\n",
       " '/courses/7ad05239-54cb-4cbb-8cec-4065512db97a',\n",
       " '/courses/7f20a234-094c-457a-b2b4-8712bd8f0616',\n",
       " '/courses/03549fee-5478-4352-b146-f2a2c8561191',\n",
       " '/courses/94c549e6-ebca-4bbe-b1a8-17beda62b6d5',\n",
       " '/courses/5ba67aa9-b272-42ec-88d2-81cd5af6c643',\n",
       " '/courses/4d6f6d90-a53f-4792-a491-1697bb384d57',\n",
       " '/courses/848a2ee8-b9ce-464a-bcbc-78fcdd67b9dd',\n",
       " '/courses/d6e5c1ea-f3bf-4435-a1c6-7566aef9ddc2',\n",
       " '/courses/3cdb1ba6-7b9d-4a04-8ba4-bfffbef9a77f',\n",
       " '/courses/6ffc967e-8caf-4540-b0f3-c1e684195d03',\n",
       " '/courses/8c6151e3-3141-4a64-8fe0-d5df205e750d',\n",
       " '/courses/db80cdd0-d396-482a-913e-1fc81c8d9ac4',\n",
       " '/courses/9e2df5e5-3dc5-4c87-b385-f464642d8562',\n",
       " '/courses/0884af64-fb1b-4c15-9850-3315b99fd92d',\n",
       " '/courses/4b7a6968-f8f6-4f98-bd8d-357b71ca9496',\n",
       " '/courses/9e0490f4-e45b-41df-858c-34a4eba5836b',\n",
       " '/courses/fd86f75c-b1b5-450d-98ee-7e3ad0b1e357',\n",
       " '/courses/c110330f-d41d-48fe-8433-88e7527c4d77',\n",
       " '/courses/1164fafc-7e5b-4126-b1d6-ce228e266345',\n",
       " '/courses/a06e18a8-3e06-4777-85c5-fb22b35ea46d',\n",
       " '/courses/50986fd0-ea11-4d2e-971f-5fb88fb81542',\n",
       " '/courses/5f754053-de57-4f46-9bb3-b11d5c9e42e0',\n",
       " '/courses/f6853a9e-84ce-40c6-9362-00fcf701e459',\n",
       " '/courses/931b56d8-4192-43e1-ba10-0ce6f94cb2ed',\n",
       " '/courses/1db857a4-f374-49fb-af9c-0f6d2e5ada45',\n",
       " '/courses/7f24d6b5-1645-4184-83d4-6deab75b13f1',\n",
       " '/courses/0bc0c9fa-9749-4129-91de-c286a474e9b3',\n",
       " '/courses/5abad7b0-953d-4527-8aa9-4d3ca80ff500',\n",
       " '/courses/7544e04d-82d5-447e-9935-c784455c2de3',\n",
       " '/courses/7472b97e-7b73-42dc-b0ef-972832e7bad5',\n",
       " '/courses/5a45c3b4-3f6e-48dc-ab92-71a1cd38db28',\n",
       " '/courses/ebe89ac6-5b3a-479d-adab-d6e2d5297773',\n",
       " '/courses/eab79907-4de4-4413-bb44-a92e253aa5c6',\n",
       " '/courses/2bf6f84c-f096-459a-a8fb-e629d263f109']"
      ]
     },
     "execution_count": 6,
     "metadata": {},
     "output_type": "execute_result"
    }
   ],
   "source": [
    "link"
   ]
  },
  {
   "cell_type": "code",
   "execution_count": 7,
   "id": "7d59fac3",
   "metadata": {},
   "outputs": [],
   "source": [
    "#Get all the information looping through each detail link\n",
    "Decription=[]\n",
    "price_per_session=[]\n",
    "no_of_lessons=[]\n",
    "hour_per_session=[]\n",
    "Total_price=[]\n",
    "Session_names=[]\n",
    "for i in link:\n",
    "    n=0\n",
    "    re = requests.get(f\"https://brainlox.com/{i}\")\n",
    "    soup = BeautifulSoup(re.content, 'html.parser')\n",
    "    # Find the element with class=\"courses-overview\"\n",
    "    courses_overview = soup.find('div', class_='courses-overview')\n",
    "    p_elements = courses_overview.find_all('p')\n",
    "    for i in p_elements:\n",
    "        Decription.append(i.text)\n",
    "    # Extract only the numbers from each element\n",
    "    for element in soup.find_all(class_=\"d-flex justify-content-between align-items-center\"):\n",
    "        text = ''.join(element.stripped_strings)  # Get all text within the element\n",
    "        numbers = ''.join(filter(str.isdigit, text))  # Extract numbers from the text\n",
    "        if n==0:\n",
    "            price_per_session.append(numbers)\n",
    "        if n==1:\n",
    "            no_of_lessons.append(numbers)\n",
    "        if n==2:\n",
    "            hour_per_session.append(numbers)\n",
    "        if n==3:\n",
    "            Total_price.append(numbers)\n",
    "        n+=1\n",
    "    soup=str(soup)\n",
    "    index=soup.find('\"videos\":[')\n",
    "    soup=soup[index:-1]\n",
    "    soup=soup.replace('\"',\"\")\n",
    "    soup=soup.replace('{',\"\")\n",
    "    soup=soup.replace('}',\"\")\n",
    "    soup=soup.replace('name:',\"\")\n",
    "    soup=soup.replace(',description:',\"\")\n",
    "    soup=soup.replace('videos:[',\"\")\n",
    "    soup=soup.split(\"]\")\n",
    "    soup=[i for i in soup if \"order\" in i]\n",
    "    soup=\",\".join(soup)\n",
    "    Session_names.append(soup)"
   ]
  },
  {
   "cell_type": "code",
   "execution_count": 8,
   "id": "83bb54cf",
   "metadata": {},
   "outputs": [
    {
     "name": "stdout",
     "output_type": "stream",
     "text": [
      "['Session 1Introduction to Scratch Programing,order:1,Session 2Creating a Scratch account,order:2,Session 3Getting familiar with Scratch website and editor,order:3,Session 4Graphic design- sprites, costumes, stages and backdrops,order:4,Session 5Looks and sound,order:5,Session 6Control, operators and conditions,order:6,Session 7Creating a simple ‘About me’ program,order:7,Session 8Beginners project,order:8,Session 9Creating your animation on Scratch,order:9,Session 10Learn to make the Scratch cat dance on stage,order:10,Session 11 Variables and in depth concept of repetition,order:11,Session 12Copying and algorithm on Scratch ,order:12,Session 13Concept of motion and sensing,order:13,Session 14Sound and music in Scratch ,order:14,Session 15 Learn to create a simple game along with some tips and tricks,order:15,Session 16Beginners project,order:16', 'Session 1Introduction,order:1,Session 2Overview AWS services,order:2,Session 3Registration and first login,order:3,Session 4Top menu, security basics, admin account, password MFA, Password Policy,order:4,Session 5IAM basics, create to users, groups, policies,order:5,Session 6 Account \\\\u0026 IAM,order:6,Session 7VPC Dashboard Overview,order:7,Session 8 VPC \\\\u0026 Subnets,order:8,Session 9Security Groups,order:9,Session 10Route53, Certificate Manager,order:10,Session 11EC2 First EC2 instance,order:11,Session 12EC2 setting up a webserver,order:12,Session 13EC2 AMIs,order:13,Session 14EC2 Windows,order:14,Session 15S3 Overview S3 \\\\u0026 Glacier,order:15,Session 16S3 advanced (Versioning, Permissions, Glacier),order:16,Session 17 Cloud Formation Overview \\\\u0026 Theory,order:17,Session 18Cloud Formation Examples,order:18,Session 19System manager,order:19,Session 20Trusted advisor,order:20', 'Session 1Introduction,order:1,Session 2Learning about Android Apps,order:2,Session 3Environment and Tools used to Develop Android Apps,order:3,Session 4Kotlin,order:4,Session 5Variables and Operators,order:5,Session 6Strings, Functions and Arrays,order:6,Session 7Conditionals, Loops and Lists,order:7,Session 9Classes in Kotlin,order:9,Session 10 Inheritance and Interfaces,order:10,Session 11Installation and Setup of Android Studio,order:11,Session 12Activity and its Lifecycle,order:12,Session 13Exploring Linear Layouts,order:13,Session 14Exploring Relative Layouts,order:14,Session 8Errors and Exceptions,order:8,Session 15Scrolling with Scroll view,order:15,Session 16Sharing Data between Activities,order:16,Session 17Working with Navigation View,order:17,Session 18Connecting to the Internet,order:18,Session 19Fetching Data using GET Request,order:19,Session 20Fetching Data using POST Request,order:20,Session 21 ROOM: Make Room for it,order:21,Session 22Databases Everywhere,order:22,Session 23Initiating Development,order:23,Session 24Testing and Uploading,order:24', 'Session 1 Introduction to JAVA (History and Features),order:1,Session 2Object Oriented programming paradigm, Classes and Objects,order:2,Session 3Java Compilation Process, JDK, JRE, JVM, JIT (definition and use),order:3,Session 4 Token and Data types in Java,order:4,Session 5Operators in Java (Theory and examples),order:5,Session 6Important Keywords in Java (new, this, return, break, continue, static etc.),order:6,Session 7 Conditional Statements in Java (if-else, switch etc.),order:7,Session 8Loops in Java (for, while, do-while),order:8,Session 9Practice programs on loops,order:9,Session 10Methods and Constructors in Java ,order:10,Session 11Input methods in Java,order:11,Session 12Introduction to Arrays (single dimension and double dimension),order:12,Session 13Practice problems on Arrays,order:13,Session 14Introduction to Strings in Java,order:14,Session 15Practice problems on Strings,order:15,Session 16Packages in Java,order:16,Session 17Wrapper classes,order:17,Session 18Exception Handling,order:18,Session 19 Polymorphism,order:19,Session 20 Encapsulation ,order:20,Session 21 Inheritance,order:21,Session 22Abstract class and Interfaces,order:22,Session 23 Recursion,order:23,Session 24 Practice Problems on Recusion,order:24,Session 25Overloading vs Overridding,order:25,Session 26  Java Inner classes,order:26,Session 27 Introduction to java.lang package,order:27,Session 28 Introduction to java.util package,order:28,Session 29 Multithreading,order:29,Session 30 Practice problems on Multithreading,order:30,Session 31 Generics,order:31,Session 32 Collections framework in Java,order:32,Session 33Practice Problems on Collection Framework,order:33,Session 34Lambda Expressions in Java,order:34,Session 35 Java Input Output,order:35,Session 36 Java Networking,order:36,Session 37Introduction to GUI programming using awt,order:37,Session 38Introduction to Swing,order:38,Session 39Introduction to JavaFx and why JavaFx is better than awt and swing,order:39,Session 40Practice basic programs in JavaFx,order:40,Session 41Java Applet,order:41', 'Session 1 Introduction to Robotics,order:1,Session 2 Introduction to Robotics - 2,order:2,Session 3 Introduction to Electronics,order:3,Session 4 Scratch ,order:4,Session 5 Algorithms everywhere,order:5,Session 6Introduction to Arduino,order:6,Session 7 Arduino X Scratch,order:7,Session 8 Meet Sensors,order:8,Session 9 Circuits-1,order:9,Session 10Circuits-2,order:10,Session 11 Designing our First Robot,order:11,Session 12Simulating our Robot-1,order:12,Session 13 Simulating our Robot-2,order:13,Session 14 Making our first Robot,order:14,Session 15 Test your knowledge,order:15,Session 16 Learn to make an App,order:16,Session 17 Build you first App,order:17,Session 18Interact with the Robot 1,order:18,Session 20Obstacle avoidance Robot 1,order:20,Session 21 Obstacle avoidance Robot 2,order:21,Session 22 Follow me Robot 1,order:22,Session 23 Follow me Robot 2,order:23,Session 24Project: Anti Covid Robot 1,order:24,Session 25 Project: Anti Covid Robot 2,order:25', 'Session 1Introduction to JavaScript,order:1,Session 2 Setting Up Code Editor,order:2,Session 3 Values and Variables,order:3,Session 4 Data Types,order:4,Session 5  Basic Operators,order:5,Session 6 Statements and Expressions,order:6,Session 7 Functions,order:7,Session 8 Objects,order:8,Session 9 Loops,order:9,Session 10 Maps,order:10,Session 11  Strings,order:11,Session 12 arrays,order:12,Session 13  JavaScript syntax,order:13,Session 14 Object methods,order:14,Session 15  JavaScript in browser,order:15,Session 16 Add JavaScript to page,order:16,Session 17 variables,order:17,Session 18 Properties,order:18', 'Session 1Introduction ,order:1,Session 2 Creating a Node Server,order:2,Session 3 Arrays \\\\u0026 Array Methods,order:3,Session 4 Arrays, Objects \\\\u0026 Reference Types,order:4,Session 5 Working with Objects, Properties \\\\u0026 Methods,order:5,Session 6 Statements and Expressions,order:6,Session 7Understanding Spread \\\\u0026 Rest Operators,order:7,Session 8 Dealing with Errors,order:8,Session 9 MVC,order:9,Session 10 SQL,order:10,Session 11Dynamic Routes,order:11,Session 12  Express.js,order:12,Session 13 Debugging,order:13,Session 14 Sending Responses,order:14,Session 15 Routing Requests,order:15,Session 16 Redirecting Requests,order:16,Session 17 Using the Debugger,order:17,Session 18Wrap Up,order:18', 'Session-1 Introduction ,order:1,Session-2 Building Blocks of Cloud Computing,order:2,Session-3Demystifying Cloud Computing Architecture,order:3,Session-4Amazon Elastic Compute Cloud (EC2),order:4,Session-5 AWS Storage Services,order:5,Session-6AWS Databases,order:6,Session-7 Automation on AWS,order:7,Session-8DevOps on AWS - Creating a Code Pipeline,order:8,Session-9Content Delivery and DNS Services,order:9,Session-10Containers and Serverless Computing,order:10,Session-11 Application Integration and Loose Coupling,order:11,Session-12Amazon SNS and Amazon SQS,order:12,Session-13 AWS Lambda to Amazon SQS Event Source Mapping,order:13,Session-14Serverless application - Amazon SQS, SNS, and Lambda,order:14,Session-15Serverless with AWS Lambda,order:15,Session-16 Docker Containers on Amazon ECS,order:16,Session-17AWS CodePipeline with AWS Elastic Beanstalk,order:17,Session-18AWS Certification,order:18', 'Session-1Introduction and Installation of Python,order:1,Session-2print() and Escape Sequence and Comments in Python,order:2,Session-3input() and Variables and Introduction to DataTypes,order:3,Session-4Integer and Float Data Type and Mathematical operations in Python,order:4,Session-5String Data Type and its functions,order:5,Session-6List Data Type and its functions,order:6,Session-7Tuple Data Type and its functions,order:7,Session-8Dictionary and Set Data Type and its functions,order:8,Session-9Practice Problems,order:9,Session-10Introduction to Loops and ‘For Loop’,order:10,Session-11While Loop,order:11,Session-12break, continue and pass keywords in Python,order:12,Session-13Practice Problems,order:13,Session-14Operators and String Slicing in Python,order:14,Session-15Random Module (imp),order:15,Session-16Guess The Number Game and Overall Summary,order:16', 'Roblox for Beginners,order:15', 'Session-1Revision of python basics,order:1,Session-2Recursion and comparison with iterations,order:2,Session-3Introduction to Dictionaries, its methods and operations,order:3,Session-4Introduction to Sets and Set Operations,order:4,Session-5Introduction to tuples and its operations,order:5,Session-6Introduction to lists, operations, multi-dimensional list,order:6,Session-7:Practice Problems,order:7,Session-8OOPs Terminologies (Class, Object, Encapsulation, Inheritance),order:8,Session-9Introduction to Class and Object (Overviewing OOPs ),order:9,Session-10Introduction to nested and abstract class,order:10,Session-11Introduction to overloading(Method (conceptual), Operator) and overriding(Method),order:11,Session-12Practice Problems,order:12,Session-13Introduction to exception handling,order:13,Session-14Introduction to file handling with pandas(csv),order:14,Session-15Project (Online Banking System),order:15,Session-16Project (Online Banking System),order:16', 'Session-1Revision of python data types (Dictionaries, Sets, Lists, Tuples) and OOPs concepts.,order:1,Session-2Revision of file and exception handling,order:2,Session-3Introduction to numpy arrays(2D array included),order:3,Session-4Introduction to tkinter, canvas, frame, title and label,order:4,Session-6Introduction to entry, text box, message box, list box,order:6,Session-7Introduction to checkbox, radio button, menu,option menu,order:7,Session-8Introduction to file handling using GUI,order:8,Session-9Random Captcha project,order:9,Session-10Store Sales Management System (GUI),order:10,Session-11Introduction to Matplotlib (labels, ticks, legend, title),order:11,Session-12Introduction to bar charts and histograms,order:12,Session-13Introduction to line plot and multiple subplotting,order:13,Session-14Introduction to scatter plot and pie chart,order:14,Session-15Introduction 3D scatter plot and stacked plot,order:15,Session-16Practice Problem,order:16,Session-17Introduction to Data Cleaning (describing, plotting and handling nulls),order:17,Session-18Handling unnecessary data in the dataset(irrelevant, repetitive and duplicates),order:18,Session-19Handling outliers in the data,order:19,Session-20Handling irregularities in the data,order:20,Session-21Introduction to Machine Learning (application, supervised and unsupervised learning),order:21,Session-22Introduction to regression(linear and nonlinear),order:22,Session-23Introduction to data fitting and scaling,order:23,Session-24Introduction to decision tree and building a decision tree,order:24,Session-25Introduction clustering and K means,order:25,Session-26Introduction to hierarchical clustering,order:26,Session-27Introduction to RNN/CNN/ANN (Input, output, feedback, hidden layers, epochs),order:27,Session-28Training and Predicting outputs using neural network,order:28,Session-29Project- Stock data analysis (Cleaning, Visualization and Interpretation ),order:29,Session-30Project- Stock data prediction (Creating learning model, training neural network and predicting output),order:30', 'Session-1Introduction and Installation of Python,order:1,Session-2print() and Escape Sequence and Comments in Python,order:2,Session-4Integer and Float Data Type and Mathematical operations in Python,order:4,Session-5String Data Type and its functions,order:5,Session-6List Data Type and its functions,order:6,Session-7Tuple Data Type and its functions,order:7,Session-8Dictionary and Set Data Type and its functions,order:8,Session-9Practice Problems,order:9,Session-10Introduction to Loops and ‘For Loop’,order:10,Session-11While Loop,order:11,Session-12break, continue and pass keywords in Python,order:12,Session-14Operators and String Slicing in Python,order:14,Session-15Random Module (imp),order:15,Session-16Guess The Number Game and Overall Summary,order:16,Session-3input() and Variables and Introduction to DataTypes,order:3,Session-13Practice Problems,order:13', 'Advanced Roblox scripting Workshop,order:14', '', '', '', '', '', '', '', '', '', '', '', '', '', '', '', '', '', '', '', '', '', '', '', '', '', '', '', '', '', '', '', '', '', '', '', '', '', '', '', '', '', '', '', '', '', '', '', '', '', '', '', '', '']\n"
     ]
    }
   ],
   "source": [
    "print(Session_names)"
   ]
  },
  {
   "cell_type": "code",
   "execution_count": 9,
   "id": "ad8b1bc8",
   "metadata": {},
   "outputs": [
    {
     "name": "stdout",
     "output_type": "stream",
     "text": [
      "['\\nScratch Course is the foundation of coding and is a building block of a coding journey. If you want to Kickstart your coding journey, scratch programming is the ultimate start. It will not only nourish your thinking skills, but also enhance the idea about how programming in computer works and how the code is written.\\n\\nMAIN FEATURES OF THE PROGRAM\\nOne on One Live Interactive Sessions with verified Instructor\\nCustomized Curriculum according to your kid’s progress\\nSimple and interesting assignments for easy learning\\nClass Tracking Report on a daily basis.\\nStrong focus on Learning with Fun\\nComplete access to the study materials and PowerPoint Slides.\\n\\n', '\\nIn this course we are going to cover the basics and the most important services on AWS,\\nAt the end of this course, you will have a solid understanding of AWS and you can start using it for your projects.\\n\\n\\nMAIN FEATURES OF THE PROGRAM:\\n•\\tOne on One Live Interactive Sessions with verified Instructor\\n•\\tCustomized Curriculum according to your kid’s progress\\n•\\tSimple and interesting assignments for easy learning\\n•\\tClass Tracking Report on daily basis.\\n•\\tStrong focus on Learning with Fun\\n•\\tComplete access of the study materials and Power Point Slides. \\n', '\\nMobile application development is the process of creating software applications that run on a mobile device, and a typical mobile application utilizes a network connection to work with remote computing resources.\\n\\nThis course introduces students to programming technologies, design and development related to mobile applications.\\n\\nMAIN FEATURES OF THE PROGRAM:\\n•\\tOne on One Live Interactive Sessions with verified Instructor\\n•\\tCustomized Curriculum according to your kid’s progress\\n•\\tSimple and interesting assignments for easy learning\\n•\\tClass Tracking Report on daily basis.\\n•\\tStrong focus on Learning with Fun\\n•\\tComplete access of the study materials and Power Point Slides. \\n', '\\nJava is a very popular high-level, class-based, object-oriented programming language that is designed to have as few implementation dependencies as possible. It is a general-purpose programming language intended to let application developers write once, run anywhere (WORA), meaning that compiled Java code can run on all platforms that support Java without the need for recompilation. Java applications are typically compiled to bytecode that can run on any Java virtual machine (JVM) regardless of the underlying computer architecture. The syntax of Java is similar to C and C++.\\n\\nIn this course, students will understand Programming and Java. We cover basics of Java, Flow of execution, Data Types and their functions and loops. We will also give practice questions and will teach logic building. Sufficient amount of fundamental knowledge will be provided which is necessary enough to pursue the Intermediate Java Courses.\\n\\nMAIN FEATURES OF THE PROGRAM:\\n•\\tOne on One Live Interactive Sessions with verified Instructor\\n•\\tCustomized Curriculum according to your kid’s progress\\n•\\tSimple and interesting assignments for easy learning\\n•\\tClass Tracking Report on daily basis.\\n•\\tStrong focus on Learning with Fun\\n•\\tComplete access of the study materials and Power Point Slides. \\n', '\\nYou can open all kinds of doors for advancement in so many careers with a basic understanding of electronics. Think of all of the fields and hobbies that involve electronics to some degree! \\nOur robots today rove Mars, vacuum our floors, build cars, and entertain us in films. Maybe you even agree with Stephen Hawking that super-intelligent one will bring about the extinction of mankind one day.\\nWith the \"Learn Robotics\" course, you will uncover some of the fundamentals of robot design, how robots are built, and how they work. \\n\\nMAIN FEATURES OF THE PROGRAM:\\n•     One on One Live Interactive Sessions with verified Instructor\\n•     Customized Curriculum according to your kid’s progress\\n•     Simple and interesting assignments for easy learning\\n•     Class Tracking Report on daily basis.\\n•     Strong focus on Learning with Fun\\n•     Complete access of the study materials and Power Point Slides.\\n', \"\\nJavaScript is the most popular programming language in the world. It powers the entire modern web. It provides millions of high-paying jobs all over the world.\\nJavaScript is the language that powers the web, from great user interface experiences to powerful applications like Gmail and Google docs, to server scripts and even chips. JavaScript is everywhere. Just imagine the possibilities you'll be given with knowledge of JavaScript.. That’s why you want to learn JavaScript too\\n\\nMAIN FEATURES OF THE PROGRAM:\\n•\\tOne on One Live Interactive Sessions with verified Instructor\\n•\\tCustomized Curriculum according to your kid’s progress\\n•\\tSimple and interesting assignments for easy learning\\n•\\tClass Tracking Report on daily basis.\\n•\\tStrong focus on Learning with Fun\\n•\\tComplete access to the study materials and PowerPoint Slides. \\n\", '\\nNode.js developers are in high demand and the language is used for everything from traditional web apps with server-side rendered views over REST APIs all the way up to GraphQL APIs and real-time web services. Not to mention its applications in build workflows for projects of all sizes\\nThat’s why you want to learn Node JS too\\n\\nMAIN FEATURES OF THE PROGRAM:\\n•\\tOne on One Live Interactive Sessions with verified Instructor\\n•\\tCustomized Curriculum according to your kid’s progress\\n•\\tSimple and interesting assignments for easy learning\\n•\\tClass Tracking Report on daily basis.\\n•\\tStrong focus on Learning with Fun\\n•\\tComplete access of the study materials and Power Point Slides. \\n', \"DESCRIPTION\\nThis introduction to cloud computing on Amazon AWS course takes you from the AWS Advance level to being a competent AWS cloud practitioner. You'll learn general cloud computing concepts and AWS from fundamentals right through to advanced concepts.\\n\\nYou'll also build hands-on skills using many of the core Amazon Web Services (AWS) services. \\n\\nMAIN FEATURES OF THE PROGRAM:\\n•\\tOne on One Live Interactive Sessions with verified Instructor\\n•\\tCustomized Curriculum according to your kid’s progress\\n•\\tSimple and interesting assignments for easy learning\\n•\\tClass Tracking Report on daily basis.\\n•\\tStrong focus on Learning with Fun\\n•\\tComplete access of the study materials and Power Point Slides. \\n\\nCOURSE CONTENT\\nSession-1:Introduction \\nSession-2: Building Blocks of Cloud Computing\\nSession-3: Demystifying Cloud Computing Architecture\\nSession-4: Amazon Elastic Compute Cloud (EC2)\\nSession-5: AWS Storage Services\\nSession-6: AWS Databases\\nSession-7: Automation on AWS\\nSession-8: DevOps on AWS - Creating a Code Pipeline\\nSession-9: Content Delivery and DNS Services\\nSession-10: Containers and Serverless Computing\\nSession-11: Application Integration and Loose Coupling\\nSession-12: Amazon SNS and Amazon SQS\\nSession-13: AWS Lambda to Amazon SQS Event Source Mapping\\nSession-14: Serverless application - Amazon SQS, SNS, and Lambda\\nSession-15: Serverless with AWS Lambda\\nSession-16: Docker Containers on Amazon ECS\\nSession-17: AWS CodePipeline with AWS Elastic Beanstalk\\nSession-18: AWS Certification\", '\\nPython is a language with simple syntax, and a powerful set of libraries. It has a rich programming environment, including a robust debugger and profiler. While it is easy for beginners to learn, it is widely used in many scientific areas for data exploration. This course is an introduction to the Python programming language for students without prior programming experience.\\nIn this course, students will understand Programming and Python. We cover basics of Python, Flow of execution, Data Types and their functions and loops. We will also give practice questions and will teach to create a simple game using Random Module. Sufficient amount of fundamental knowledge will be provided which is necessary enough to pursue the Intermediate Python Courses.\\n\\nMAIN FEATURES OF THE PROGRAM:\\n●\\tOne on One Live Interactive Sessions with verified Instructor\\n●\\tCustomized Curriculum according to your kid’s progress\\n●\\tSimple and interesting assignments for easy learning\\n●\\tClass Tracking Report on daily basis.\\n●\\tStrong focus on Learning with Fun\\n●\\tComplete access of the study materials and Power Point Slides.\\n', 'Explore the dynamic universe of game development with our \"Roblox Game Development Fundamentals\" course. Over 15 engaging sessions, you\\'ll delve into the Roblox platform, master the Roblox Studio interface, and acquire proficiency in Lua programming – the scripting language behind Roblox games. Dive deep into game mechanics, interactive elements, and player-controlled characters while also gaining valuable insights into multiplayer functionality. Through hands-on projects and collaborative development, you\\'ll craft your own games, create stunning user interfaces, and learn to troubleshoot common issues. By the end of this course, you\\'ll be well-prepared to publish your Roblox creations, share them with the world, and showcase your talents as a Roblox game developer. Whether you\\'re a beginner or have some prior experience, this course offers a comprehensive foundation to unleash your creativity and become a part of the vibrant Roblox game development community.\\n\\nJoin us on a journey of creativity and innovation as we guide you through the exciting world of Roblox game development!!', '\\nTake your python skills to the next level and start building real applications.\\nPython is a programming language is well-known for being easy and simple to use, mainly because it allows the programmers to use a method rich in styles, instead of doing in a complex way. It also features the possibility of extending over other customization interfaces.\\nIn this course, you will learn in depth the most important Python language topics for the intermediate level. We will also give practice questions and Sufficient amount of fundamental knowledge will be provided which is necessary enough to pursue the advance Python Courses.\\n\\nMAIN FEATURES OF THE PROGRAM:\\n•\\tOne on One Live Interactive Sessions with verified Instructor\\n•\\tCustomized Curriculum according to your kid’s progress\\n•\\tSimple and interesting assignments for easy learning\\n•\\tClass Tracking Report on daily basis.\\n•\\tStrong focus on Learning with Fun\\n•\\tComplete access of the study materials and Power Point Slides. \\n', 'If you already know Python basics, then this training is the next step in your Python learning path to become a Python programmer. \\n\\nPython is an interpreted, object-oriented, high-level programming language with dynamic semantics. Its high-level built in data structures, combined with dynamic typing and dynamic binding, make it very attractive for Rapid Application Development.\\n\\nBecoming a Python expert takes time, but over time you’ll master this beautiful programming language. It’s worth it!\\n\\nMAIN FEATURES OF THE PROGRAM:\\n•\\tOne on One Live Interactive Sessions with verified Instructor\\n•\\tCustomized Curriculum according to your kid’s progress\\n•\\tSimple and interesting assignments for easy learning\\n•\\tClass Tracking Report on daily basis.\\n•\\tStrong focus on Learning with Fun\\n•\\tComplete access of the study materials and Power Point Slides. \\n', '\\nPython is a language with simple syntax, and a powerful set of libraries. It has a rich programming environment, including a robust debugger and profiler. While it is easy for beginners to learn, it is widely used in many scientific areas for data exploration. This course is an introduction to the Python programming language for students without prior programming experience.\\nIn this course, students will understand Programming and Python. We cover basics of Python, Flow of execution, Data Types and their functions and loops. We will also give practice questions and will teach to create a simple game using Random Module. Sufficient amount of fundamental knowledge will be provided which is necessary enough to pursue the Intermediate Python Courses.\\n\\nMAIN FEATURES OF THE PROGRAM:\\n●\\tOne on One Live Interactive Sessions with verified Instructor\\n●\\tCustomized Curriculum according to your kid’s progress\\n●\\tSimple and interesting assignments for easy learning\\n●\\tClass Tracking Report on daily basis.\\n●\\tStrong focus on Learning with Fun\\n●\\tComplete access of the study materials and Power Point Slides.\\n', '\"Are you ready to unlock the full potential of your Roblox game development skills? Join our Intermediate Roblox Game Development and Scripting course today and embark on a transformative journey that will elevate your game development prowess to new heights. In this comprehensive 14-session program, you\\'ll dive deep into the intricacies of Roblox game creation, mastering advanced scripting techniques, designing captivating user interfaces, implementing sophisticated character controls, and exploring the world of data persistence. \\n\\nBut that\\'s not all! We\\'ll guide you through the complexities of multiplayer networking, help you create immersive audiovisual effects, and teach you the secrets of performance optimization. You\\'ll even gain proficiency in collaboration with version control systems, a skill that\\'s essential for real-world game development teams.\\n\\nThroughout the course, you\\'ll put your newfound knowledge into practice with hands-on projects, receive constructive feedback from your peers, and polish your games to a professional standard. By the end, you\\'ll not only have a portfolio of impressive Roblox projects but also the confidence and skills to create captivating, multiplayer experiences that set you apart in the world of game development.\\n\\nDon\\'t miss out on this unique opportunity to showcase your expertise and join the thriving Roblox developer community. Enroll now to kickstart your journey towards becoming a highly skilled Roblox game developer, and start crafting immersive, multiplayer games that captivate players and potential employers alike. Your future in game development begins here – elevate your game, enroll today!\"', \"This course is designed to introduce beginners to the world of robotics. Learners will be taught the fundamental concepts and skills required to design, build and program robots. By the end of the course, learners should have a basic understanding of robotics and be able to apply this knowledge to create simple robots.\\n\\nSome of the topics that may be covered in a beginner's robotics course are:\\n\\nIntroduction to Robotics\\nComponents of a Robot\\nBasic Electronics\\nMicrocontroller Programming\\nMotors and Actuators\\nSensors and Feedback Control\\nRobot Design and Construction\\nRobot Motion and Kinematics\\nRobot Navigation and Mapping\\nEthics and Safety in Robotics\\n\\nThe class may be structured into lectures, hands-on activities, and assignments. \\n\\nThe teaching style  includes a mix of visual aids, interactive activities, and discussion to help students understand and apply the concepts they are learning. \\n\\nThe course may include various opportunities for students to interact with each other and the instructor. These may include group activities, discussions, and Q&A sessions. The instructor may also use videos, slides, and other multimedia resources to enhance the learning experience\\n\\nThe course may not require any previous experience in robotics or programming, but learners should have a basic understanding of math and science concepts. Familiarity with basic computer skills and programming languages may also be helpful\", 'Java Project-Based Course for Intermediate Level Students ;Overview: This course is designed for intermediate level students who want to build practical Java projects while learning advanced Java concepts. Over the course of one week, students will build 7 real-world Java projects. Day 1: Quiz ApplicationDay 2: File Manager;Day 3: Weather Application;Day 4: Social Network;\\n Day 5: Image Editor;Day 6: Stock Trading System\\nDay 7: E-commerce Site', \"Unlock the power of AI chatbots in our 10-day course! Gain comprehensive knowledge of chatbot development, NLP, NLU, and dialog management. Get hands-on experience through 4 projects covering intent recognition, contextual chatbot creation, messaging platform deployment, and personalization. Enroll now to become a skilled AI chatbot builder! \\n\\n Duration: 10 Days\\n Projects: 4 Minor Projects for Hands-On Experience\\n\\n Course Overview:\\nDay 1: Introduction to Chatbots and Natural Language Processing (NLP)\\n\\nDay 2: Designing Conversational Interfaces\\n\\nDay 3: Introduction to Natural Language Understanding (NLU)\\n Project 1: Build an Intent Recognition Model for the Chatbot\\n\\nDay 4: Natural Language Generation (NLG) for Chatbots\\n\\nDay 5: Dialog Management and Contextual Understanding\\n Project 2: Develop a Contextual Chatbot with Memory and Dialog Management\\n\\nDay 6: Introduction to Deep Learning for Chatbots\\n\\nDay 7: Deploying Chatbots on Messaging Platforms\\n Project 3: Deploy the Chatbot on a Messaging Platform\\n\\nDay 8: Chatbot Analytics and Performance Monitoring\\n\\nDay 9: Chatbot Personalization and Customization\\n Project 4: Add Personalization Features to the Chatbot\\n\\nDay 10: Future Trends and Advancements in Chatbot Technology\\n\\n Hands-on Experience: Each day includes practical projects to reinforce your learning.\\n\\nDon't miss this opportunity to acquire in-demand skills and unlock the potential of AI chatbot development! Enroll now and become an AI chatbot creator!\", 'Python Playground : Create a Hangman Game is an exciting and engaging course designed specifically for kids who are interested in learning how to code in Python. In this course, students will learn the basics of Python programming, including variables, loops, conditional statements, and functions.,\\nThe main focus of the course is to teach students how to create a fully functional Hangman game using Python. The Hangman game is a classic word-guessing game that challenges players to guess a word by guessing individual letters.,\\nThroughout the course, students will learn how to use Python to create a game board, generate random words for the game, and prompt the user for input. They will also learn how to create graphics and animations for the game using Python libraries.,\\nThe course is designed to be interactive and hands-on, allowing students to practice their coding skills by building and testing their Hangman game in real-time. By the end of the course, students will have a fully functional Hangman game that they can share with their friends and family.,\\nThis course is perfect for kids who have little to no experience with Python and are looking to develop their coding skills in a fun and engaging way. With its interactive and project-based approach, Python Playground 102: Create a Hangman Game is sure to spark creativity and curiosity in any aspiring young coder.', \"Scratch Playground : Create a Maze Game! is a beginner-level course designed to introduce kids to the world of coding and Scratch programming. In this course, kids will learn how to create a fun and interactive maze game using the Scratch programming language.,The course is designed to be engaging and interactive, with lots of hands-on activities and real-world examples. Kids will learn how to use various programming concepts, such as events,conditionals, loops, and variables to create a game that challenges the player's problem-solving skills.,The course begins with an introduction to Scratch programming language, including an overview of the Scratch interface and creating basic projects. Then, the course will guide the students through designing the maze game, including creating the maze, adding obstacles and goals, and designing the user interface.Throughout the course, students will have access to a community of learners where they can ask questions, share their experiences, and get feedback on their work. They will also have access to a range of learning resources, including video tutorials, quizzes, and interactive exercises, to help them apply the concepts they have learned.By the end of the course, students will have developed a fully functional maze game that they can share with their friends and family. They will have gained key programming skills,including problem-solving, logical thinking, and creativity, that they can apply to other programming projects. Overall, this course is an excellent way for kids to explore the world of coding and develop valuable skills that will benefit them throughout their lives.,\", \"Join us for this engaging 5-day summer bootcamp where we will explore the fascinating world of Artificial Intelligence. You'll learn what AI is, its various applications, ethical implications, and envision its future. No technical background is required - just bring your curiosity!\", 'The \"AI for Productivity and Time Management\" course: 🚀💡\\nDay 1: Introduction to AI and its Applications in Productivity 🤖\\nDiscover the impact of AI on productivity, explore industry applications, and identify personal AI opportunities.\\n \\nDay 2: Time Management Fundamentals ⏰\\nLearn time management principles, analyze challenges, set goals, and prioritize tasks effectively.\\n\\nDay 3: Data Collection and Analysis 📊\\nMaster strategies for organizing personal data, leverage AI for data-driven decision-making and improve productivity.\\n\\nDay 4: AI-Powered Task and Project Management 📋\\nExplore AI-based tools for task and project management, automate repetitive tasks, and boost efficiency.\\n\\nDay 5: Personalized AI Assistants 💬\\nCreate customized AI assistants for scheduling, reminders, and task management to enhance productivity.\\n\\nDay 6: Cognitive Automation and Machine Learning 🧠\\nUnleash the power of cognitive automation and machine learning algorithms to optimize task completion.\\n\\nDay 7: AI for Decision-Making \\nApply AI algorithms for informed decision-making, enhance problem-solving skills, and gain a competitive edge.\\n\\nDay 8: AI-Driven Time Tracking and Analysis ⏱️\\nUtilize AI for time tracking, identify time-wasting activities, and generate insights for enhanced efficiency.\\n\\nDay 9: AI for Personalized Learning and Skill Development 📚\\nHarness AI for personalized learning paths, skill development, and customized productivity experiences.\\n\\nDay 10: Ethical Considerations in AI for Productivity 🛡️\\nUnderstand ethical implications, mitigate bias, and ensure data privacy and security in AI applications.\\n\\nDay 11: Final Project and Capstone Presentation 🎓\\nApply acquired skills to a personal project, showcase outcomes, and reflect on future AI applications.\\n\\nJoin now and embrace the future of productivity! 💪🌐So why to wait now, Get yourself enrolled for the course and get a pro boost for your career and business life.', 'Roblox Studio fundamentals are taught through fun and interactive projects. Lectures, projects, hands-on activities, and homework assignments will be used to teach and learn. Because this is a beginner-level course, no coding experience or knowledge is required. The students can interact with the Instructor during the class any number of times. However, one extra session of up to  30 minutes can be scheduled with the Instructor to clarify any doubt. Session wise details are mentioned below:\\nSession 1: Introduction to Roblox Studio and Obstacle Course Design.\\n Session 2: Developing Your Obstacle Course Layout and Flow. \\nSession 3: Creating Obstacles and Challenges. \\nSession 4: Adding Power-Ups and Boosts. \\nSession 5: Building Custom Scenery and Decorations. \\nSession 6: Adding Narrative and Storytelling Elements. \\nSession 7: Testing and Improving Your Obstacle Course. \\nSession 8: Finalizing and Publishing Your Obstacle Course', 'Java Journey: Coding Camp for Curious Minds\" is a fun-filled, 5-day adventure into the world of programming! Kids will explore the fundamentals of Java, solve exciting coding challenges, and design their own game or app. This camp blends education and entertainment, nurturing both technical skills and a growth mindset. Sign up today for an unforgettable coding journey.', \"Welcome to the world of AI in entrepreneurship!  In this course, we will embark on a thrilling journey that merges the innovative spirit of entrepreneurship with the transformative power of artificial intelligence. 🤝 Get ready to explore how AI can revolutionize businesses, open up new avenues for success, and empower entrepreneurs to stay ahead of the curve. 🌟\\n\\nDay 1: 🚀 Introduction to AI in Entrepreneurship: Explore the potential of AI in entrepreneurship and discover opportunities for implementation.\\n\\nDay 2: 🧠 AI Fundamentals for Entrepreneurs: Gain a solid understanding of AI concepts, techniques, and tools.\\n\\nDay 3: 📊 Data Acquisition and Preparation for AI: Learn strategies to collect and clean data for AI models\\n\\n.Project 1: 📝 Identify and Collect Data for an AI-driven Entrepreneurial Project.\\n\\nDay 4: 🤖 Machine Learning for Decision Making: Apply machine learning algorithms to solve entrepreneurial problems\\n\\nProject 2: 📈 Develop a Predictive Model for Business Decision Making.\\n\\nDay 5: 🎯 AI-powered Marketing and Customer Insights: Leverage AI for targeted marketing and customer behavior analysis.\\n\\nDay 6: ⚙️ AI-driven Process Automation and Optimization: Automate tasks and optimize processes using AI.\\n\\nProject 3: 🔄 Design an AI-driven Process Automation Solution for Entrepreneurial Workflow.\\n\\nDay 7: 🤝 Ethical and Legal Considerations in AI Entrepreneurship: Explore ethical challenges and legal frameworks in AI entrepreneurship.\\n\\nAre you ready to future-proof your entrepreneurial journey? 🚀 Join our AI in Entrepreneurship course designed specifically for adults like you, and unlock the transformative potential of artificial intelligence in the business world. . 📈 With hands-on projects and practical insights, you'll acquire the essential knowledge and skills to harness AI's power and stay ahead in today's dynamic market. Embrace innovation, elevate your entrepreneurial game, and pave the way for sustainable success in the digital age. 💪💡 Don't miss this opportunity to transform your business mindset and thrive in the AI-driven future! Enroll now and take your entrepreneurship journey to new heights.\", \"Join us for an exciting journey into the world of AI chatbots with this 5-day bootcamp. You'll learn to build and customize your own chatbots using ChatGPT, one of the most powerful conversational AI models. No prior coding experience is needed, come ready to learn and create!\", 'Ignite your child\\'s tech curiosity with our \"RoboRacers\" camp! Over five days, campers will delve into robotics and Python, constructing and programming their own line-following robot. This engaging journey culminates in a showcase of their robotic creations. Join us and let your child race into the world of robotics', '\" Project outline for JAVA PROJECT BASED BOOTCAMP\\n1: Introduction to Java and Programming Basics.\\n2.Introduction to object-oriented programming. \\n3 Working With Java Collection.\\n4- Exception Handling and File I/O.\\n5; Multithreading and Concurrency.\\n6- Java Database Connectivity (JDBC). \\n7; : Web Development with Java\"', \"Join us on a 7-day bootcamp to step into the world of AI and create your own chatbot like ChatGPT. You'll learn the basics of AI, engage with Python programming, and get hands-on experience with chatbot creation. No prior coding experience is required!\", 'Unlock the boundless potential of web development with our \"Web Development Essentials\" course. Whether you\\'re a beginner looking to create your first website or an enthusiast eager to refine your skills, this comprehensive journey is tailored just for you. Learn the building blocks of the web: HTML and CSS; infuse life into your pages with JavaScript; conquer responsive design; and master essential tools like Git and command-line usage. As you embark on this transformative learning experience, you\\'ll gain the knowledge and confidence needed to craft stunning, interactive web content. Don\\'t let the digital world pass you by – enroll now, and let\\'s build the future of the web together! Your journey begins here.\\n\\n**Enroll Today:**\\n\\nTake your first step towards becoming a proficient web developer. Enroll now to secure your spot in the \"Web Development Essentials\" course. Join a community of learners, unlock the secrets of web development, and embark on a path to creating web experiences that captivate and inspire. Don\\'t wait; your future in web development starts with a single click. Join us today!', 'Step into our 7-day \"Python Project Playground\" camp where coding meets creativity! Kids will explore Python, building a budget planner, a text-based game, and a weather dashboard. This engaging camp fosters tech skills and problem-solving. Join us and fuel your child\\'s coding journey today', \"In this 5-day camp, you'll dive headfirst into JavaScript, one of the world's most popular programming languages. You'll learn by doing, creating new projects every day while picking up foundational coding concepts. By the end of the week, you'll have a collection of JavaScript projects that you've built from scratch. No prior experience is needed!\", 'Boost your productivity with AI! \\n\\nJoin our \"AI for Productivity and Time Management\" course and learn how to leverage artificial intelligence tools and techniques to enhance productivity and become a time management pro! \\n\\n Course Outline:\\n\\nDay 1 : Introduction to AI and its Applications in Productivity\\nIn the first module, you\\'ll be introduced to the field of AI and its potential applications in enhancing personal and professional productivity.\\n\\nDay 2 : Time Management Fundamentals\\nThis module covers the core principles of effective time management.\\n\\nDay 3 : Data Collection and Analysis\\nHere, you\\'ll learn how AI can help collect and analyze data related to your productivity. \\n\\nDay 4 : AI-Powered Task and Project Management\\nThis module will focus on how AI can be used to enhance task and project management. \\n\\nDay 5 : Personalized AI Assistants\\nAI assistants can automate various tasks and help manage your schedule.\\n\\nDay 6 : Cognitive Automation and Machine Learning\\nThis module will delve into the field of cognitive automation, where AI is used to automate cognitive tasks that usually require human intelligence.\\n\\nDay 7 : AI for Decision-Making\\nYou\\'ll learn how AI can support decision-making processes, helping you make more informed and efficient decisions, thus saving time and improving productivity.\\n\\nDay 8 : AI-Driven Time Tracking and Analysis\\nyou\\'ll learn about AI-driven tools that can track and analyze how you spend your time.\\n\\nDay 9 : AI for Personalized Learning and Skill Development\\nThis session will show you how AI can tailor learning to your needs and preferences, helping you develop skills more effectively and efficiently.\\n\\nDay 10 : Ethical Considerations in AI for Productivity\\nAs you start using AI more frequently, it\\'s important to understand the ethical considerations.\\n\\nDay 11 :  Final Project and Capstone Presentation\\nThe course culminates with a final project where you\\'ll apply everything you\\'ve learned to a real-world scenario.\\n\\nBy the end of this practical, project-based course, you\\'ll have the skills to apply AI solutions to real-world scenarios, optimize your workflow, and maximize your productivity!\\n\\nDon\\'t miss out on this opportunity to unlock your full potential! Enroll now and let AI transform the way you work!', \"Understand the role and potential of AI in entrepreneurship, learn the fundamentals, explore data acquisition and preparation techniques, discover machine learning for decision making, delve into AI-powered marketing and customer insights, master AI-driven process automation and optimization, and address ethical and legal considerations in AI entrepreneurship. \\n\\nJoin our exclusive course to become an AI-driven entrepreneur! \\n\\n7-day course | Beginner to Intermediate level\\n\\nDay 1 : Introduction to AI in Entrepreneurship\\n   Explore AI's potential and success stories\\n   Identify AI opportunities for ventures\\n\\nDay 2 : AI Fundamentals for Entrepreneurs\\n   Learn AI concepts and tools\\n\\nDay 3 : Data Acquisition and Preparation for AI\\n   Master data collection and preprocessing\\n\\nDay 4 : Machine Learning for Decision Making\\n   Apply ML algorithms for business insights\\n\\nDay 5 : AI-powered Marketing and Customer Insights\\n   Leverage AI for customer segmentation\\n\\nDay 6 : AI-driven Process Automation and Optimization\\n   Automate tasks and improve efficiency\\n\\nDay 7 : Ethical and Legal Considerations in AI Entrepreneurship\\n   Address AI ethics and compliance\\n\\nThis course is an opportunity to understand the fundamental tenets of becoming an AI-driven entrepreneur. Whether you're a seasoned entrepreneur looking to leverage the power of AI in your business or a budding entrepreneur ready to dive into the world of AI, this course will provide the knowledge and skills you need to navigate the AI landscape.\\n\\nUnlock your potential, lead the change, and shape the future with AI. Enroll now to become an AI-driven entrepreneur.\", \"Enhance your creative writing skills with AI! Join our 10-day course and explore AI's role in writing. Dive into AI technologies for generating ideas, developing characters and plots, and improving your style. By the end, you'll master AI's power to inspire your creative writing.\\n\\n\\n\\nJoin us on a 10-day journey where you'll discover the fascinating intersection of AI and the art of writing. Each day brings new insights and practical techniques to elevate your creative process with the aid of cutting-edge AI technologies.\\n\\n\\n\\nDay 1: Introduction to Creative Writing with AI\\n\\nDive into the world of AI-assisted writing, understanding its role and the array of technologies employed. Unleash your imagination with newfound possibilities!\\n\\n\\n\\nDay 2: Generating Story Ideas with AI\\n\\nOvercome writer's block and tap into AI-powered tools to ignite your creativity. Discover innovative techniques for brainstorming and idea generation.\\n\\n\\n\\nDay 3: AI-Generated Character Development\\n\\nEmbark on a quest to create captivating characters using AI models and profiling tools. Craft unique personalities that leap off the page!\\n\\n\\n\\nDay 4: AI-Enhanced Plot Development\\n\\nLet AI algorithms be your guide to crafting compelling plots and structuring your stories. Blend the ingenuity of AI with your own creative vision.\\n\\n\\n\\nDay 5: AI-Powered Writing Assistance\\n\\nRefine your writing style with AI-based tools. From grammar suggestions to enhancing readability, leverage AI to polish your prose.\\n\\n\\n\\nDay 6: Automated Editing and Proofreading\\n\\nHarness the power of AI for automated editing and proofreading. Learn the best practices and understand the limitations of AI-based editing tools.\\n\\n\\n\\nDay 7: Ethical Considerations in AI and Writing\\n\\nEngage in thought-provoking discussions on the ethical implications of AI in creative writing. Appreciate the invaluable role of human creativity in storytelling.\\n\\n\\n\\nDay 8: Collaborative Writing with AI\\n\\nExplore exciting AI-driven co-authoring tools and techniques. Unleash the potential of collaboration with AI models to create captivating stories together.\\n\\n\\n\\nDay 9: AI-Generated Dialogue and Language Style\\n\\nImmerse yourself in the realm of AI algorithms generating realistic dialogue and diverse writing styles. Witness how AI enhances your narrative voice.\\n\\n\\n\\nDay 10: The Future of AI and Creative Writing\\n\\nDiscover emerging AI technologies shaping the future of creative writing. Reflect on the profound impact AI has on the writing industry.\", 'Ready to unlock the full potential of web development? Join our \"Intermediate Web Development Mastery\" course and embark on a transformative journey. Learn advanced HTML, CSS, and JavaScript, delve into front-end frameworks like React and Vue.js, explore the world of back-end development with Node.js, Python, and more, and gain mastery over databases and data management. \\n\\nBut that\\'s not all! Discover the art of building APIs and fortify your web applications against common security vulnerabilities. Learn to deploy your creations to the web and implement automated testing and deployment workflows with CI/CD. \\n\\nEnroll now to secure your spot in this comprehensive course. Take the next step in your web development journey and empower yourself with the skills and knowledge needed to create dynamic, secure, and scalable web applications. Your future as a proficient web developer awaits – join us today and make it a reality!', \"Scratch Playground : Create a Scroller Game is an intermediate level course designed to teach kids the fundamentals of programming by creating a classic side-scrolling game. This course will help students build upon their Scratch programming skills, develop their creativity and problem-solving skills, and create a game that they can share with their friends.Throughout the course, students will learn how to create a Scroller game using Scratch programming language. They will learn how to design the game interface, animate the character's movement, add obstacles and enemies, and create a scoring system. The course is designed to be interactive and hands-on, allowing students to learn through building and testing their game at each stage,The course will cover key programming concepts such as events, loops, conditionals, and variables, and apply them to game development. The course will start with an introduction to Scratch programming and an overview of the Scratch interface. Then, students will learn how to design the game's graphics and create animationsLater in the course, students will learn how to program the character's movement, add obstacles and enemies, and create a scoring system. The course will also cover advanced topics such as adding power-ups and creating a boss battleBy the end of the course, students will have developed a fully functional Scroller game that they can share with their friends and family. They will have gained valuable programming skills such as problem-solving, critical thinking, and logical reasoning, which will help them to be successful in their future programming endeavorsScratch Playground 104: Create a Scroller Game is a perfect course for kids who are interested in game development and have some experience with Scratch programming. It's a great opportunity for kids to improve their Scratch skills, enhance their creativity, and create a game they can be proud of.,\", \"🚀 Welcome to Creative Writing with AI for ADULTS! \\nUnleash your creativity with cutting-edge AI technology in this transformative course. Explore AI-generated ideas, character development, plot enhancement, and collaborative writing. Discover the ethical considerations and future possibilities of AI in writing. Join us and redefine storytelling!  Enroll now!\\n\\n📚 Day 1: Introduction to Creative Writing with AI \\nUnleash the power of AI in your writing journey! Discover how AI technology can enhance your creative process and open new avenues for expression. \\n💡 Day 2: Generating Story Ideas with AI \\nBreak free from writer's block! Harness the potential of AI-powered tools to ignite your imagination and explore innovative story ideas. \\n🎭 Day 3: AI-Generated Character Development \\nBring your characters to life with AI! Dive into the realm of AI models and character profiling tools to create captivating and authentic personalities. \\n📜 Day 4: AI-Enhanced Plot Development \\nTake your plots to new heights! Learn how to leverage AI algorithms to craft engaging story arcs and seamlessly blend AI-generated plots with your creative touch. \\n✍️ Day 5: AI-Powered Writing Assistance \\nElevate your writing game with AI! Explore advanced writing tools that provide grammar, style, and language suggestions to enhance the impact of your words. \\n🔍 Day 6: Automated Editing and Proofreading \\nLeave no errors behind! Discover the power of AI-driven editing and proofreading tools, revolutionizing the way you polish your work to perfection. \\n🌐 Day 7: Ethical Considerations in AI and Writing \\nNavigate the intersection of AI and ethics. Explore the impact of AI in creative writing and ponder the importance of preserving human creativity in storytelling. \\n🤝 Day 8: Collaborative Writing with AI \\nUnleash the potential of AI collaboration! Discover AI-driven co-authoring tools and techniques that foster creative synergy, opening doors to extraordinary storytelling partnerships. \\n💬 Day 9: AI-Generated Dialogue and Language Style \\nInfuse authenticity into your words! Explore AI algorithms that generate realistic dialogue and diverse language styles to make your characters come alive. \\n🌌 Day 10: The Future of AI and Creative Writing \\nEmbark on a journey to the writing frontier! Delve into emerging AI technologies shaping the creative writing landscape and envision the exciting possibilities that lie ahead. \\n\\nUnleash your creativity with AI in writing and unlock boundless possibilities for growth and expression! Join us on this transformative journey where technology meets imagination. Enroll now! 🚀📚\", 'Through this course, participants will learn the fundamentals of Python programming language, as well as game development concepts such as game mechanics, object-oriented programming, and user input. Students will also learn how to use Pygame, a Python module that is specifically designed for game development, to create a fully functional snake game from scratch.\\n\\n\\n\\nThroughout the course, students will be guided through the development process, learning how to write code to implement game mechanics such as moving the snake, detecting collisions with walls and food, and keeping score. They will also learn how to add features to the game such as sound effects and high score tracking.\\n\\n\\n\\nBy the end of the course, participants will have a fully functional snake game that they can share with others or continue to develop and enhance. Additionally, students will have gained valuable programming and game development skills that they can apply to future projects.\\n\\n\\n\\nWhether you\\'re a complete beginner or an experienced programmer, \"Python Playground: Create Your Own Snake Game\" is a fun and engaging way to learn Python and game development. With the satisfaction of creating a fully functional game, participants will be motivated to continue learning and exploring the world of Python programming.', 'An interactive and hands-on tutorial designed to help learners build their programming skills while creating a fun and classic game. In this tutorial, learners will use Python programming language to create a Tic Tac Toe game from scratch, learning key programming concepts and techniques along the way.\\nThe tutorial is suitable for anyone who has basic familiarity with Python programming and wants to deepen their understanding of the language through a practical project. With step-by-step instructions and real-time coding exercises, learners will learn how to use loops, conditionals, and functions to create a game that can be played by two players.\\nBy the end of the tutorial, learners will have a fully functional Tic Tac Toe game that they can play and share with others. They will also have gained confidence in their programming abilities and a solid understanding of how to apply key programming concepts to real-world projects.\\nThis will be a great way for learners to have fun while learning to code and to gain the skills they need to tackle more advanced programming challenges in the future.', 'This bootcamp is a fun and engaging program designed to introduce children to the basics of programming using the Python language. In this bootcamp, children will learn how to create their own calculator using Python, starting with simple arithmetic operations and progressing to more complex calculations.The bootcamp will cover key concepts such as variables, operators, and functions, all of which are essential to programming. Through hands-on exercises and interactive activities, children will have the opportunity to apply what they learn and develop their programming skills. At the end of the bootcamp, children will have a fully functional calculator that they can use to perform calculations in Python. They will also have a solid foundation in programming and be well on their way to becoming proficient in this valuable skill. This bootcamp is ideal for children who are interested in computer science, mathematics, or just looking for a fun and challenging activity to engage their minds.', \"Scratch Playground 103: Create a Flappy Bird is a beginner to intermediate level course designed to teach kids the fundamentals of programming by creating a simple but engaging game. This course will help students build upon their Scratch programming skills, develop their creativity and problem-solving skills, and create an exciting game that they can share with their friends.Throughout the course, students will learn how to create a Flappy Bird game using Scratch programming language. They will learn how to design the game interface, animate the bird's movement, add obstacles, and create a scoring system. The course is designed to be interactive and hands-on, allowing students to learn through building and testing their game at each stage.,The course will cover key programming concepts such as events, loops, conditionals, and variables, and apply them to game development. The course will start with an introduction to Scratch programming and an overview of the Scratch interface. Then, students will learn how to design the game's graphics and create animations.Later in the course, students will learn how to program the bird's movement, add obstacles and hazards, and create a scoring system. The course will also cover advanced topics such as adding sound effects and creating a game over screenBy the end of the course, students will have developed a fully functional Flappy Bird game that they can share with their friends and family. They will have gained valuable programming skills such as problem-solving, critical thinking, and logical reasoning, which will help them to be successful in their future programming endeavors.,\", \"Jump into the vibrant world of coding with our engaging 7-day summer camp! Starting from scratch, you'll learn to build, beautify, and animate webpages using HTML, CSS, and JavaScript. With daily hands-on projects and a grand finale presentation, you'll walk away with a portfolio piece and newfound skills. No prior experience needed - join us for a week of fun, creativity, and learning.\", 'Embark on a coding adventure with our \"Code, Create, Conquer\" Java camp! In just 7 days, kids will learn Java basics while building exciting projects like a calculator, a text-based game, and a library system. Join us for a unique blend of fun and learning, and help your child conquer the coding world', \"Python Playground: Create a Memory Game is a beginner-level course designed for kids who are interested in learning how to code and have some prior knowledge of Python basics.,\\nIn this course, kids will learn how to create a fun and interactive memory game using Python programming language. They will learn how to use various programming concepts like loops, conditional statements, functions, and arrays to create a game that challenges the player's memory skills.,\\nThe course will start with an introduction to Python programming language, including data types, variables, and basic programming concepts. Then, the course will introduce the game development process and guide the students through designing the game's interface and developing the game's core logic.,\\nThroughout the course, students will work with real-world examples and practical exercises that help them apply the concepts they have learned. They will also have access to a community of learners where they can ask questions, share their experiences, and get feedback on their work.,\\nBy the end of the course, students will have developed a fully functional memory game that they can share with their friends and family. They will have learned key programming concepts and developed problem-solving skills that they can apply to other programming projects. Overall, this course is a great way for kids to explore the world of coding and learn a valuable skill that they can use in the future.,\\nPython Playground: Create a Memory Game is a beginner-level course designed for kids who are interested in learning how to code and have some prior knowledge of Python basics.,\\nIn this course, kids will learn how to create a fun and interactive memory game using Python programming language. They will learn how to use various programming concepts like loops, conditional statements, functions, and arrays to create a game that challenges the player's memory skills.,\\nThe course will start with an introduction to Python programming language, including data types, variables, and basic programming concepts. Then, the course will introduce the game development process and guide the students through designing the game's interface and developing the game's core logic.,\\nThroughout the course, students will work with real-world examples and practical exercises that help them apply the concepts they have learned. They will also have access to a community of learners where they can ask questions, share their experiences, and get feedback on their work.,\\nBy the end of the course, students will have developed a fully functional memory game that they can share with their friends and family. They will have learned key programming concepts and developed problem-solving skills that they can apply to other programming projects. Overall, this course is a great way for kids to explore the world of coding and learn a valuable skill that they can use in the future.,\", \"Embark on an exciting coding adventure with our 5-day Scratch Programming camp! Designed for beginners, you'll learn to animate, create games, and tell stories on Scratch, a kid-friendly coding platform. By learning through doing, Create your very own projects, all while having tons of fun! No prior coding experience is necessary.\", 'Dive into coding with our 5-day \"Python Playground\" camp! Kids will explore Python, a popular language in tech, learning about syntax, control flow, data structures, and functions. They\\'ll cap off the week by building their own application. Ignite your child\\'s coding passion - enroll today', 'The Build a Text Analyzer using Python Bootcamp for Kids is an educational program designed to introduce young learners to the basics of programming and natural language processing using the Python programming language. In this bootcamp, kids will learn how to write Python code to analyze and manipulate textual data. The bootcamp will cover the fundamental concepts of Python programming, including data types, variables, operators, control structures, functions, and file handling. Kids will also learn about regular expressions, which are used to search and manipulate text. Throughout the bootcamp, kids will work on a project to build a text analyzer using Python. They will learn how to read in text data, process it, and extract useful information. They will also learn how to perform sentiment analysis on the text, which involves determining the emotional tone of the text. At the end of the bootcamp, kids will have a solid foundation in Python programming and natural language processing. They will have developed the skills to build their own text analyzers and explore the exciting field of natural language processing', \"Scratch Playground : Create a Platformer Game is an intermediate level course designed to teach kids the fundamentals of programming by creating a classic side-scrolling game. This course will help students build upon their Scratch programming skills, develop their creativity and problem-solving skills, and create a game that they can share with their friends,Throughout the course, students will learn how to create a Platformer game using Scratch programming language. They will learn how to design the game interface, animate the character's movement, add obstacles and enemies, and create a scoring system. The course is designed to be interactive and hands-on, allowing students to learn through building and testing their game at each stage,The course will cover key programming concepts such as events, loops, conditionals, and variables, and apply them to game development. The course will start with an introduction to Scratch programming and an overview of the Scratch interface. Then, students will learn how to design the game's graphics and create animations.Later in the course, students will learn how to program the character's movement, add obstacles and enemies, and create a scoring system. The course will also cover advanced topics such as adding power-ups and creating a boss battle,By the end of the course, students will have developed a fully functional Platformer game that they can share with their friends and family. They will have gained valuable programming skills such as problem-solving, critical thinking, and logical reasoning, which will help them to be successful in their future programming endeavors,Scratch Playground : Create a Platformer Game is a perfect course for kids who are interested in game development and have some experience with Scratch programming. It's a great opportunity for kids to improve their Scratch skills, enhance their creativity, and create a game they can be proud of.\", 'Welcome to the \"Introduction to Artificial Intelligence and Python\" course! This course is designed to provide you with a comprehensive introduction to the fascinating world of Artificial Intelligence (AI) and equip you with the necessary skills, knowledge, and resources to get started on your journey into AI development. Whether you are a beginner or have some prior experience in programming, this course will guide you through the foundational concepts and practices of AI.\\n\\nBy the end of this course, you will:\\n- Have a solid understanding of AI concepts, its history, and applications.\\n- Be proficient in Python programming, a crucial language for AI development.\\n- Possess a strong foundation in relevant mathematics required for AI.\\n- Understand the basics of machine learning, including algorithms and evaluation methods.\\n- Be skilled in data preprocessing and visualization, vital for AI projects.\\n\\nPrepare to embark on an exciting journey into the world of Artificial Intelligence. Whether you aim to apply AI to solve real-world problems or are simply curious about this rapidly evolving field, this course will provide you with the knowledge and skills you need to begin your AI journey. Let\\'s dive in and explore the limitless possibilities of AI.', \"This is an engaging course designed for kids who are interested in learning programming with Python. In this course, kids will learn the basics of Python programming by creating a fun and interactive game, Rock, Paper, Scissors.,\\nThe course begins by introducing the fundamentals of Python, including variables, data types, and control structures. Students will learn how to write Python code, read it, and debug errors. They will then dive deeper into Python programming by exploring conditional statements and loops.,\\nOnce the basics are covered, the course will guide students through the creation of a fully functional Rock, Paper, Scissors game. They will learn how to code the logic of the game, including how to accept input from the user and generate a random choice for the computer. The course will also cover how to handle different outcomes of the game, such as ties or winning scenarios.,\\nThe course is designed to be interactive, with hands-on exercises and quizzes that help students reinforce their learning. By the end of the course, students will have a fully functional Rock, Paper, Scissors game that they can play and share with their friends and family.,\\nOur course will be structured into eight classes, each one building on the previous one. We'll start by introducing Pygame and explaining how to create a window to display the game. We'll then move on to drawing the snake and adding food to the game, as well as learning how to detect collisions and handle game over scenarios.,\\nOverall, Python Playground 104: Create a Rock, Paper, Scissors Game! is a great way for kids to learn the fundamentals of programming and get started with Python while creating a fun game that they can enjoy. It's an engaging and effective way to learn, and it will provide students with valuable skills that they can apply in many different areas of their lives.\", \"Are you ready to unlock the secrets of predicting stock prices using AI? 📈🤖 Join our immersive course designed for adults, and embark on a thrilling journey into the world of stock price prediction. Gain the essential knowledge and skills to harness the power of AI and machine learning, and make informed investment decisions. . 📊 From building linear regression models to implementing advanced techniques like LSTM and CNN networks, you'll master a wide range of predictive models tailored specifically for stock price forecasting. \\n\\nDay 1: 📈 Introduction to Stock Price Prediction: Understand the importance of AI and machine learning in predicting stock prices.\\n\\nDay 2: 📊 Data Collection and Preprocessing: Learn how to gather and clean historical stock market data.\\n\\nDay 3: 📈 Exploratory Data Analysis: Identify trends and patterns in stock market data using statistical techniques and visualization.\\n\\nDay 4: 📉 Linear Regression Models: Build and evaluate linear regression models for stock price prediction.\\n\\nProject 1: 📊 Build a Linear Regression Model for Stock Price Prediction.\\n\\nDay 5: ⏰ Time Series Analysis: Analyze time series data and detect seasonality.\\n\\nDay 6: 🔄 ARIMA and SARIMA Models: Implement ARIMA and SARIMA models for stock price prediction.\\n\\nProject 2: ⏰ Implement ARIMA/SARIMA Models for Stock Price Prediction.\\n\\nDay 7: 🧠 LSTM Networks: Build and train LSTM models for stock price prediction.\\n\\nDay 8: 📈 CNNs for Stock Price Prediction: Explore CNN models for predicting stock prices.\\n\\nProject 3: 🧠 Develop an LSTM or CNN Model for Stock Price Prediction.\\n\\nDay 9: 🌟 Ensemble Methods and Model Stacking: Learn how to leverage ensemble learning techniques for improved predictions.\\n\\nDay 10: 📊 Model Evaluation and Deployment: Evaluate model performance and deploy stock price prediction models in real-world scenarios.\\n\\nProject 4: 🚀 Deploy a Stock Price Prediction Model.\\n\\nJoin our adult course and unlock the power of AI in stock price prediction! 📈🧠💡 With hands-on projects and real-world applications, you'll learn how to deploy your models and make accurate predictions with confidence. Join us now and become a savvy investor with the ability to navigate the complex world of stock market dynamics. 🌟📈\", 'Dive into the world of AI! 🤖 Join our \"Introduction to Artificial Intelligence\" course and unlock the power of AI. From machine learning to robotics, gain the skills to design intelligent systems. No prior experience required. Enroll today and shape the future with Artificial Intelligence!\\n\\n\\n\\n Day 1: Introduction to AI\\n\\n Learn what AI is and explore its fascinating history from its origins to cutting-edge advancements.\\n\\n\\n\\nDay 2: Applications of AI\\n\\nDiscover how AI is transforming industries like healthcare, finance, and transportation, and explore real-world applications.\\n\\n\\n\\n Day 3: Python Programming for AI\\n\\n Master the basics of Python programming, including syntax, data types, and control flow.\\n\\n\\n\\n Day 4: Machine Learning Essentials\\n\\n Dive into machine learning and understand the different types of learning algorithms, like supervised, unsupervised, and reinforcement learning.\\n\\n\\n\\n Day 5: Hands-on Project - Clustering with K-Means Algorithm\\n\\n Apply the K-Means algorithm to group data into clusters and visualize the results.\\n\\n\\n\\n Day 6: Neural Networks and Deep Learning\\n\\n Explore neural network architecture, activation functions, and loss functions, and learn how to build deep learning models.\\n\\n\\n\\n Day 7: Hands-on Project - Building a Neural Network for Image Recognition\\n\\n Construct a neural network using TensorFlow or PyTorch and train it to recognize images.\\n\\n\\n\\n Day 8: Evaluation and Model Selection\\n\\n Understand evaluation metrics and techniques for selecting the best machine learning model for a given task.\\n\\n\\n\\n Day 9: Decision Trees and Random Forests\\n\\n Learn about decision trees and random forests, powerful algorithms for classification and regression tasks.\\n\\n\\n\\n Day 10: Reinforcement Learning and Computer Vision\\n\\n Discover the principles of reinforcement learning and its applications in game playing and robotics. Get an introduction to computer vision techniques.\\n\\n\\n\\n Day 11: Project - Analyzing Customer Churn with Logistic Regression\\n\\n Use logistic regression to analyze customer churn and interpret the impact of different features.\\n\\n\\n\\n Day 12: Advanced AI Topics\\n\\n Delve into Q-Learning, policy gradients, and actor-critic methods, and explore their applications in game playing and robotics.\\n\\n\\n\\n Day 13: Industry Applications and Future Directions\\n\\n Explore how AI is being applied in industries like healthcare and finance, and discuss the latest AI trends and future directions.\\n\\n\\n\\n Day 14: Careers in AI and Final Project\\n\\n Discover various career opportunities in AI and work on a comprehensive AI project to apply your knowledge.\\n\\n\\n\\n Day 15: Image Processing and Object Detection\\n\\n Learn techniques for image preprocessing, feature extraction, object detection, and image segmentation.\\n\\n\\n\\n Day 16: Privacy, Security, and Responsible AI\\n\\n Discuss the impact of AI on privacy and security, and explore responsible AI deployment and regulation.\\n\\n\\n\\n Day 17: Hands-on Coding and AI Frameworks\\n\\n Engage in coding exercises using Python and popular AI frameworks like TensorFlow and PyTorch.\\n\\n\\n\\n Day 18: Image Classification, Ethics, and Bias\\n\\n Explore image classification, image generation, and the importance of ethics and addressing biases in AI models.\\n\\n\\n\\nDay 19: Hands-on Project - Image Generation with GANs\\n\\n Implement a Generative Adversarial Network (GAN) to generate realistic images in a specific domain.\\n\\n\\n\\n Day 20: Deployment of AI Models\\n\\n Learn about strategies for deploying AI models in real-world applications, focusing on scalability and integration.', '\\nWelcome to the \"Introduction to Python Game Development\" course! In this course, you\\'ll embark on a journey to learn the fundamentals of game development using the Python programming language. Whether you\\'re a complete beginner to both Python and game development or have some prior experience, this course will provide you with the essential knowledge and resources to get started in the exciting world of game development.\\n\\nBy the end of this course, you will:\\n- Have a strong understanding of Python programming fundamentals.\\n- Grasp core game development concepts such as game loops and rendering.\\n- Be proficient in using the Pygame library to create 2D games.\\n- Complete your first game project, gaining hands-on experience in game development.\\n\\nGet ready to embark on an exciting journey into the world of Python game development! Whether you\\'re looking to create games for fun or aspire to pursue a career in game development, this course will equip you with the essential skills to get started. Let\\'s dive in and bring your game ideas to life.', 'The Build a Image Manipulator using Python Bootcamp for Kids is a program designed to introduce children to the world of computer programming and image manipulation using the Python programming language. In this bootcamp, children will learn how to use Python to read, manipulate, and save images. The bootcamp will cover the following topics: Basic programming concepts in Python such as variables, data types, conditional statements, loops, and functions, Introduction to image manipulation concepts such as color models, pixel manipulation, image filtering, and transformation, Using Python libraries such as Pillow, NumPy, and OpenCV for image manipulation, Creating basic image filters and transformations using Python, Building a simple image manipulator tool using Python that allows users to apply various filters and transformations to their images, By the end of the bootcamp, children will have a good understanding of Python programming and image manipulation concepts. They will also have a functioning image manipulator tool that they can use to enhance their images. The bootcamp will be conducted in a fun and interactive manner with plenty of hands-on exercises and projects to keep children engaged and motivated', 'Build a Weather App using Python Bootcamp for Kids is an educational program designed to introduce young learners to the basics of programming and data handling using the Python programming language. Through this bootcamp, kids will learn how to use Python to create a simple weather app that can display the current weather conditions for any location in the world. The program will cover the fundamental concepts of programming such as variables, data types, conditional statements, loops, and functions. Participants will also learn how to use Python libraries such as requests, JSON, and Tkinter to retrieve weather data from an API, parse it, and display it in a user-friendly graphical interface. The bootcamp will be conducted in a hands-on, interactive manner, with live coding sessions, practical exercises, and quizzes to reinforce learning. By the end of the bootcamp, kids will have gained a basic understanding of programming concepts, as well as a working knowledge of Python and its applications in real-world scenarios.', 'Roblox Studio fundamentals are taught through fun and interactive projects. Lectures, projects, hands-on activities, and homework assignments will be used to teach and learn. Because this is a beginner-level course, no coding experience or knowledge is required. The students can interact with the Instructor during the class any number of times. However, one extra session of up to 30 minutes can be scheduled with the Instructor to clarify any doubt. Session wise details are mentioned below: \\nSession 1: Introduction to Roblox Studio and Battle Arena Design . \\nSession 2: Creating the Layout and Arena Features. \\nSession 3: Adding Weapons and Power-Ups. \\nSession 4: Developing a Points System and Scoring. \\nSession 5: Building Custom Characters and NPCs. \\nSession 6: Adding Special Abilities and Techniques.\\n Session 7: Testing and Improving Your Battle Arena.\\n Session 8: Finalizing and Publishing Your Battle Arena', \"Learn to predict stock prices using the incredible potential of AI and machine learning in our comprehensive course! Gain hands-on experience in data analysis, regression models, time series analysis, LSTM and CNN networks, ensemble methods, and model evaluation. By course end, you'll possess the skills to develop accurate stock price prediction models for real-world success. Join now and seize the opportunity to make informed investment decisions.\\n\\n\\n\\nDay 1: Introduction to Stock Price Prediction\\n\\n\\n\\n Day 2: Data Collection and Preprocessing\\n\\n\\n\\n Day 3: Exploratory Data Analysis\\n\\n\\n\\n Day 4: Linear Regression Models\\n\\n     Project 1: Build a Linear Regression Model for Stock Price Prediction.\\n\\n\\n\\nDay 5: Time Series Analysis\\n\\n\\n\\n Day 6: ARIMA and SARIMA Models\\n\\n     Project 2: Implement ARIMA/SARIMA Models for Stock Price Prediction.\\n\\n\\n\\n Day 7: Long Short-Term Memory (LSTM) Networks\\n\\n\\n\\n Day 8: Convolutional Neural Networks (CNNs) for Stock Price Prediction\\n\\n    Project 3: Develop an LSTM or CNN Model for Stock Price Prediction.\\n\\n\\n\\nDay 9: Ensemble Methods and Model Stacking\\n\\n\\n\\nDay 10: Model Evaluation and Deployment\\n\\n     Project 4: Deploy a Stock Price Prediction Model.\\n\\n\\n\\n Throughout the course, engage in hands-on learning through four exciting projects that reinforce your knowledge and skills in stock price prediction.\\n\\n\\n\\nSo what are you waiting for enroll in this course right now to dive into the amazing world of AI.\", 'Join our \"Machine Learning Mania\" camp for a 7-day tech adventure! Kids will tackle machine learning, using Python to predict house prices, segment customers, and explore neural networks. An exciting introduction to this groundbreaking field awaits - enroll your young coder today', \"Our Intro to AI for Adults course is designed to equip professionals with essential knowledge and practical skills in the field of Artificial Intelligence. Whether you're starting a new career or seeking to enhance your existing skills, this course offers a comprehensive exploration of AI concepts and their real-world applications.\\n\\n🌟 Day 1: Introduction to AI \\nDiscover the captivating world of Artificial Intelligence! Unveil the secrets of AI history and unleash your potential. \\n\\n🌟 Day 2: AI Applications \\nExplore the transformative power of AI in industries like healthcare, finance, and transportation. Witness its impact firsthand and unlock new possibilities! \\n\\n🌟 Day 3: Python Programming for AI \\nMaster the language of AI! Dive into Python and conquer its syntax, data types, and control flow. Build a solid foundation for your AI journey! \\n\\n🌟 Day 4: Essential Machine Learning \\nEmbark on a thrilling adventure into the realm of machine learning. Unravel the secrets of supervised, unsupervised, and reinforcement learning. \\n\\n🌟 Day 5: Hands-on Project - Clustering with K-Means Algorithm \\nImmerse yourself in practical AI! Apply the K-Means algorithm to analyze and group data. Uncover hidden patterns and make informed decisions! \\n\\n🌟 Day 6: Neural Networks and Deep Learning \\nUnleash the power of neural networks! Delve into their architecture, and activation functions, and unleash the true potential of deep learning. \\n\\n🌟 Day 7: Hands-on Project - Image Recognition \\nStep into the world of visual intelligence! Build a neural network that recognizes images with astounding accuracy. Let AI see through your eyes! \\n\\n🌟 Day 8: Evaluation and Model Selection \\nMaster the art of model evaluation! Discover the metrics and techniques to select the perfect AI model for any task. Make data-driven decisions! \\n\\n🌟 Day 9: Decision Trees and Random Forests \\nUnlock the power of decision-making! Harness the potential of decision trees and random forests for precise classification and regression. \\n\\n🌟 Day 10: Reinforcement Learning and Computer Vision \\nExperience AI in action! Explore the world of reinforcement learning and computer vision. Unveil the secrets behind game-playing and visual perception. \\n\\n🌟 Day 11: Project - Analyzing Customer Churn \\nCrack the code of customer behavior! Use logistic regression to analyze churn patterns and save businesses from losing valuable customers. \\n\\n🌟 Day 12: Advanced AI Topics \\nEmbark on an advanced AI expedition! Journey through Q-Learning, policy gradients, and actor-critic methods. Unleash the true potential of AI! \\n\\n🌟 Day 13: Industry Applications and Future Directions \\nExplore the real-world impact of AI! Witness its applications in industries like healthcare and finance. Discover the trends shaping the future of AI! \\n\\n🌟 Day 14: Careers in AI and Final Project \\nTransform your future with AI! Explore rewarding career opportunities and showcase your skills through a comprehensive AI project. Shape your destiny! \\n\\n🌟 Day 15: Image Processing and Object Detection \\nUnveil the secrets of visual data! Master image preprocessing, feature extraction, object detection, and segmentation\\nUnleash the power of AI vision! \\n\\n🌟 Day 16: Privacy, Security, and Responsible AI \\nNavigate the ethical landscape of AI! Understand privacy and security concerns. Embrace responsible AI practices and shape a better future. \\n\\n\\n🌟 Day 17: Hands-on Coding and AI Frameworks \\nGet hands-on with coding exercises! Master Python and popular AI frameworks like TensorFlow and PyTorch. Empower yourself with practical AI skills! \\n\\n🌟 Day 18: Image Classification, Ethics, and Bias \\nUncover the truth behind images! Dive into image classification, generation, and the ethical challenges of addressing biases. Create AI that respects diversity! \\n\\n🌟 Day 19: Hands-on Project - Image Generation with GANs \\nBecome an AI artist! Implement Generative Adversarial Networks (GANs) to generate stunning images. Unleash your creativity and showcase your artistic AI! \\n\\n🌟 Day 20: Deployment of AI Models \\nTransform ideas into reality! Learn how to deploy AI models at scale. Unleash the power of AI in the real world and drive business success! \\n\\n\\nShape your future with AI! Join our captivating course and unlock endless opportunities! Enroll today and become a trailblazer in the world of Artificial Intelligence! 🌈Through a dynamic blend of theory and hands-on projects, you'll gain a deep understanding of AI algorithms, machine learning techniques, and neural networks. You'll also learn how to leverage popular AI frameworks and develop the ability to analyze data, make informed decisions, and solve complex problems using AI methodologies. So enroll now🚀🧠💡\", 'Session-1: Introduction to Java programming and Minecraft. Lesson 2: Getting Started in Creative Mode. Lesson 3: Building Techniques in Creative Mode. Lesson 4: Getting Started in Survival Mode. Lesson 5: Crafting in Survival Mode. Lesson 6: Combat and Monsters in Survival Mode.  Lesson 7: Tips and Tricks for Minecraft.', 'This bootcamp is a fun and interactive program designed to teach children how to create their own chatbot using the Python programming language. In this bootcamp, children will learn the basics of programming, natural language processing, and machine learning.The bootcamp will cover key concepts such as variables, data types, loops, conditionals, functions, and APIs, all of which are essential to programming. Children will also learn how to use Python libraries such as NLTK and TensorFlow to develop their chatbot. Throughout the bootcamp, children will have the opportunity to work on hands-on exercises and interactive activities to reinforce their learning and apply what they have learned. They will learn how to develop a chatbot that can understand and respond to natural language input, providing a personalized and interactive experience for users. At the end of the bootcamp, children will have a fully functional chatbot that they can use to communicate with friends or family members. They will also have a solid foundation in programming and be well on their way to becoming proficient in this valuable skill. This bootcamp is ideal for children who are interested in computer science, artificial intelligence, or just looking for a fun and challenging activity to engage their minds.', \"Welcome to the Build a Password Generator using Python Bootcamp for Kids! In this bootcamp, you will learn how to create a Python program that generates strong and secure passwords.Passwords are an essential part of our digital lives, and it's important to make sure they are strong and unique to protect our personal information. This program will help you generate random passwords that are difficult to guess or crack, ensuring that your accounts and data are safe. The bootcamp will cover the following topics: Basic Python programming concepts such as variables, functions, and loops, Generating random characters and numbers using Python's built-in libraries, Combining characters and numbers to create a random password, Adding features to the program such as password length and complexity options, Saving and storing generated passwords securely. By the end of the bootcamp, you will have a fully functional password generator program that you can use to generate secure passwords for yourself and others. You'll also have a solid foundation in Python programming that you can build upon for future projects. Let's get started and create a program that will help you keep your passwords safe and secure!\", \"Scratch Playground : Create a Space Game is an intermediate-level course designed to introduce kids to advanced Scratch programming concepts while creating an interactive space game. This course will provide a fun and engaging learning experience that will help kids develop their coding skills and creativity.,Throughout the course, students will learn how to create a space-themed game using Scratch programming language. They will learn how to create the game interface, animate the spaceship, create and control enemies, and add various obstacles and challengesThe course is designed to be interactive and hands-on, allowing students to learn through building and testing their game at each stage. The course will cover key programming concepts such as variables, conditional statements, loops, and functions, and apply them to game development.,The course will begin with an introduction to Scratch programming language and an overview of the Scratch interface. Then, students will learn how to design the game's graphics, create animations and program the spaceship's movement,Later in the course, students will learn how to add new characters to the game, create a scoring system, and program the game's win/lose conditions. The course will also cover advanced topics such as sound effects and game physics.\", \"Roblox enthusiasts who want to learn how to design and build their own custom obstacle courses within the game. Through this course, participants will gain a comprehensive understanding of the Roblox Studio, a development tool that enables users to create their own games within the Roblox platform.\\n\\nThroughout the course, students will learn the fundamentals of game design and development, including how to create game mechanics, design and implement obstacles, and code basic scripts to add interactivity to their course. Students will also learn how to design and create a unique and engaging course that challenges players and keeps them coming back for more.\\n\\nBy the end of the course, participants will have a fully functional custom obstacle course that they can share with other players, and they will have developed valuable skills in game design and development that they can apply to future projects. Whether you're an avid Roblox player looking to take your skills to the next level or a beginner just starting out, this course is the perfect way to explore your creativity and learn new skills in a fun and engaging way.\", '1. Title: Minecraft Java Programming for Beginners Overview: This class is designed for complete beginners who want to learn Java programming through Minecraft. Over the course of one week, students will learn the basics of Java programming while creating Minecraft mods and plugins \\nWEEK 1: Introduction to Java programming and Minecraft ;\\nWEEK 2: Minecraft Modding Continued\\nWEEK 3: Minecraft Plugin DevelopmentWEEK 4: Bukkit Plugin Development Continued\\nWEEK 5: Advanced Topics in Minecraft Java Programming WEEK 6: Putting it All Together \\nWEEK 7: Final Project Presentations and Review', \"🌟Welcome to the Chatbot Mastery Course! 🎓\\n\\nGet ready to unlock the secrets of building intelligent chatbots using AI. 🚀 Throughout this course, you'll gain the skills to thrive in modern careers and business with cutting-edge chatbot technology. This course is precisely designed for adults so that they get strong exposure to building a chatbot like chatgpt and incorporate it into their business, and jobs and get an extra edge over others.\\n\\nDay 1️⃣: Introduction to Chatbots and NLP  - Discover the power of chatbots and their applications, and dive into the fundamentals of Natural Language Processing (NLP).\\n\\nDay 2️⃣: Designing Conversational Interfaces  - Learn the art of creating engaging and user-friendly chatbot conversations, focusing on conversational design and user experience.\\n\\nDay 3️⃣: Introduction to NLU  - Explore the significance of Natural Language Understanding (NLU) in chatbot development and gain insights into intent recognition and entity extraction.\\n\\nProject 1: Building an Intent Recognition Model for the Chatbot\\n\\nDay 4️⃣: Natural Language Generation (NLG)  - Master the techniques for generating human-like responses and personalizing chatbot interactions using Natural Language Generation (NLG).\\n\\nDay 5️⃣: Dialog Management and Contextual Understanding  - Learn to manage multi-turn conversations, handle user queries, and maintain context within chatbot interactions.\\n\\n\\nProject 2: Developing a Contextual Chatbot with Memory and Dialog Management\\n\\n\\nDay 6️⃣: Deep Learning for Chatbots - Dive into the world of deep learning and explore how it powers chatbot models, with a focus on recurrent neural networks (RNNs) and training techniques.\\n\\nDay 7️⃣: Deploying Chatbots on Messaging Platforms  - Discover the process of integrating and deploying chatbots on popular messaging platforms like Telegram and Facebook Messenger.\\n\\nProject 3: Deploying the Chatbot on a Messaging Platform\\n\\nDay 8️⃣: Chatbot Analytics and Performance Monitoring  - Learn how to track and analyze user interactions, measure chatbot performance, and enhance user satisfaction using analytics.\\n\\nDay 9️⃣: Chatbot Personalization and Customization  - Unlock the potential of personalized chatbot experiences by understanding user preferences and implementing recommendation systems.\\n\\nProject 4: Adding Personalization Features to the Chatbot\\n\\nDay 🔟: Future Trends in Chatbot Technology 🚀- Explore the exciting advancements in chatbot technology, including voice-enabled chatbots and responsible AI practices.\\n\\nBy the end, you'll master chatbot development, and conversational design, and create engaging chatbots that understand and respond naturally. 📚💪So why wait now,get yourself enrolled for the course right now and start building your career life\\n.\", \"Unleash your creativity in our fun and interactive 5-day summer camp. No prior experience needed. You'll learn how to build, style, and bring webpages to life, creating your own interactive page by the end. Join us and dive into the world of coding and web design!\"]\n"
     ]
    }
   ],
   "source": [
    "print(Decription)"
   ]
  },
  {
   "cell_type": "code",
   "execution_count": 10,
   "id": "87255ff3",
   "metadata": {},
   "outputs": [
    {
     "name": "stdout",
     "output_type": "stream",
     "text": [
      "['20', '30', '20', '20', '20', '20', '20', '35', '20', '30', '20', '25', '20', '30', '20', '20', '22', '20', '20', '13', '25', '20', '12', '25', '12', '13', '20', '13', '30', '11', '12', '22', '22', '22', '30', '20', '25', '20', '20', '20', '20', '12', '11', '20', '12', '12', '20', '20', '30', '20', '25', '22', '30', '20', '20', '20', '22', '11', '25', '20', '20', '20', '20', '20', '20', '25', '13']\n"
     ]
    }
   ],
   "source": [
    "print(price_per_session)"
   ]
  },
  {
   "cell_type": "code",
   "execution_count": 11,
   "id": "92b14fce",
   "metadata": {},
   "outputs": [
    {
     "name": "stdout",
     "output_type": "stream",
     "text": [
      "['16', '20', '24', '41', '25', '18', '18', '18', '16', '15', '16', '30', '16', '14', '16', '7', '10', '8', '8', '5', '11', '8', '5', '7', '5', '5', '8', '7', '6', '7', '5', '11', '7', '10', '8', '8', '10', '8', '8', '8', '8', '7', '7', '8', '5', '5', '8', '8', '5', '8', '10', '20', '4', '8', '8', '8', '10', '7', '20', '7', '8', '8', '8', '8', '7', '10', '5']\n"
     ]
    }
   ],
   "source": [
    "print(no_of_lessons)"
   ]
  },
  {
   "cell_type": "code",
   "execution_count": 14,
   "id": "04f05629",
   "metadata": {},
   "outputs": [
    {
     "name": "stdout",
     "output_type": "stream",
     "text": [
      "['1', '1', '1', '1', '1', '1', '1', '1', '1', '1', '1', '1', '1', '1', '1', '1', '1', '1', '1', '1', '1', '1', '1', '1', '1', '1', '1', '1', '1', '1', '1', '1', '1', '1', '1', '1', '1', '1', '1', '1', '1', '1', '1', '1', '1', '1', '1', '1', '1', '1', '1', '1', '1', '1', '1', '1', '1', '1', '1', '1', '1', '1', '1', '1', '1', '1', '1']\n"
     ]
    }
   ],
   "source": [
    "print(hour_per_session)"
   ]
  },
  {
   "cell_type": "code",
   "execution_count": 15,
   "id": "5017c814",
   "metadata": {},
   "outputs": [
    {
     "name": "stdout",
     "output_type": "stream",
     "text": [
      "['320', '600', '480', '820', '500', '360', '360', '630', '320', '450', '320', '750', '320', '420', '320', '140', '220', '160', '160', '65', '275', '160', '60', '175', '60', '65', '160', '91', '180', '77', '60', '242', '154', '220', '240', '160', '250', '160', '160', '160', '160', '84', '77', '160', '60', '60', '160', '160', '150', '160', '250', '440', '120', '160', '160', '160', '220', '77', '500', '140', '160', '160', '160', '160', '140', '250', '65']\n"
     ]
    }
   ],
   "source": [
    "print(Total_price)"
   ]
  },
  {
   "cell_type": "code",
   "execution_count": 16,
   "id": "56dc81cb",
   "metadata": {},
   "outputs": [],
   "source": [
    "import pandas as pd"
   ]
  },
  {
   "cell_type": "code",
   "execution_count": 17,
   "id": "7b202b0c",
   "metadata": {},
   "outputs": [],
   "source": [
    "df=pd.DataFrame()"
   ]
  },
  {
   "cell_type": "code",
   "execution_count": 18,
   "id": "256f9a1c",
   "metadata": {},
   "outputs": [],
   "source": [
    "df['courses name']=courses"
   ]
  },
  {
   "cell_type": "code",
   "execution_count": 19,
   "id": "c32188ed",
   "metadata": {},
   "outputs": [],
   "source": [
    "df['price per session']=price_per_session"
   ]
  },
  {
   "cell_type": "code",
   "execution_count": 20,
   "id": "e63069ab",
   "metadata": {},
   "outputs": [],
   "source": [
    "df['no. of lessons']=no_of_lessons"
   ]
  },
  {
   "cell_type": "code",
   "execution_count": 22,
   "id": "cf7c834f",
   "metadata": {},
   "outputs": [],
   "source": [
    "df['hour per session']=hour_per_session"
   ]
  },
  {
   "cell_type": "code",
   "execution_count": 23,
   "id": "710c4a59",
   "metadata": {},
   "outputs": [],
   "source": [
    "df['Total price']=Total_price"
   ]
  },
  {
   "cell_type": "code",
   "execution_count": 24,
   "id": "3b25e434",
   "metadata": {},
   "outputs": [],
   "source": [
    "df['Description']=Decription"
   ]
  },
  {
   "cell_type": "code",
   "execution_count": 25,
   "id": "a09b4d8b",
   "metadata": {},
   "outputs": [],
   "source": [
    "df['Session names']=Session_names"
   ]
  },
  {
   "cell_type": "code",
   "execution_count": 26,
   "id": "e386ab1f",
   "metadata": {},
   "outputs": [
    {
     "data": {
      "text/html": [
       "<div>\n",
       "<style scoped>\n",
       "    .dataframe tbody tr th:only-of-type {\n",
       "        vertical-align: middle;\n",
       "    }\n",
       "\n",
       "    .dataframe tbody tr th {\n",
       "        vertical-align: top;\n",
       "    }\n",
       "\n",
       "    .dataframe thead th {\n",
       "        text-align: right;\n",
       "    }\n",
       "</style>\n",
       "<table border=\"1\" class=\"dataframe\">\n",
       "  <thead>\n",
       "    <tr style=\"text-align: right;\">\n",
       "      <th></th>\n",
       "      <th>courses name</th>\n",
       "      <th>price per session</th>\n",
       "      <th>no. of lessons</th>\n",
       "      <th>hour per session</th>\n",
       "      <th>Total price</th>\n",
       "      <th>Description</th>\n",
       "      <th>Session names</th>\n",
       "    </tr>\n",
       "  </thead>\n",
       "  <tbody>\n",
       "    <tr>\n",
       "      <th>0</th>\n",
       "      <td>LEARN SCRATCH PROGRAMING</td>\n",
       "      <td>20</td>\n",
       "      <td>16</td>\n",
       "      <td>1</td>\n",
       "      <td>320</td>\n",
       "      <td>\\nScratch Course is the foundation of coding a...</td>\n",
       "      <td>Session 1Introduction to Scratch Programing,or...</td>\n",
       "    </tr>\n",
       "    <tr>\n",
       "      <th>1</th>\n",
       "      <td>LEARN CLOUD COMPUTING BASICS-AWS</td>\n",
       "      <td>30</td>\n",
       "      <td>20</td>\n",
       "      <td>1</td>\n",
       "      <td>600</td>\n",
       "      <td>\\nIn this course we are going to cover the bas...</td>\n",
       "      <td>Session 1Introduction,order:1,Session 2Overvie...</td>\n",
       "    </tr>\n",
       "    <tr>\n",
       "      <th>2</th>\n",
       "      <td>LEARN MOBILE DEVELOPMENT</td>\n",
       "      <td>20</td>\n",
       "      <td>24</td>\n",
       "      <td>1</td>\n",
       "      <td>480</td>\n",
       "      <td>\\nMobile application development is the proces...</td>\n",
       "      <td>Session 1Introduction,order:1,Session 2Learnin...</td>\n",
       "    </tr>\n",
       "    <tr>\n",
       "      <th>3</th>\n",
       "      <td>LEARN CORE JAVA PROGRAMMING ONLINE</td>\n",
       "      <td>20</td>\n",
       "      <td>41</td>\n",
       "      <td>1</td>\n",
       "      <td>820</td>\n",
       "      <td>\\nJava is a very popular high-level, class-bas...</td>\n",
       "      <td>Session 1 Introduction to JAVA (History and Fe...</td>\n",
       "    </tr>\n",
       "    <tr>\n",
       "      <th>4</th>\n",
       "      <td>LEARN ROBOTICS</td>\n",
       "      <td>20</td>\n",
       "      <td>25</td>\n",
       "      <td>1</td>\n",
       "      <td>500</td>\n",
       "      <td>\\nYou can open all kinds of doors for advancem...</td>\n",
       "      <td>Session 1 Introduction to Robotics,order:1,Ses...</td>\n",
       "    </tr>\n",
       "    <tr>\n",
       "      <th>...</th>\n",
       "      <td>...</td>\n",
       "      <td>...</td>\n",
       "      <td>...</td>\n",
       "      <td>...</td>\n",
       "      <td>...</td>\n",
       "      <td>...</td>\n",
       "      <td>...</td>\n",
       "    </tr>\n",
       "    <tr>\n",
       "      <th>62</th>\n",
       "      <td>Scratch Playground: Create a Space Game!</td>\n",
       "      <td>20</td>\n",
       "      <td>8</td>\n",
       "      <td>1</td>\n",
       "      <td>160</td>\n",
       "      <td>Scratch Playground : Create a Space Game is an...</td>\n",
       "      <td></td>\n",
       "    </tr>\n",
       "    <tr>\n",
       "      <th>63</th>\n",
       "      <td>Create Your Own Roblox Obstacle Course</td>\n",
       "      <td>20</td>\n",
       "      <td>8</td>\n",
       "      <td>1</td>\n",
       "      <td>160</td>\n",
       "      <td>Roblox enthusiasts who want to learn how to de...</td>\n",
       "      <td></td>\n",
       "    </tr>\n",
       "    <tr>\n",
       "      <th>64</th>\n",
       "      <td>Java Minecraft Creative or Survival Mode</td>\n",
       "      <td>20</td>\n",
       "      <td>7</td>\n",
       "      <td>1</td>\n",
       "      <td>140</td>\n",
       "      <td>1. Title: Minecraft Java Programming for Begin...</td>\n",
       "      <td></td>\n",
       "    </tr>\n",
       "    <tr>\n",
       "      <th>65</th>\n",
       "      <td>AI Camp for Jobs &amp; Business:Build Your own Cha...</td>\n",
       "      <td>25</td>\n",
       "      <td>10</td>\n",
       "      <td>1</td>\n",
       "      <td>250</td>\n",
       "      <td>🌟Welcome to the Chatbot Mastery Course! 🎓\\n\\nG...</td>\n",
       "      <td></td>\n",
       "    </tr>\n",
       "    <tr>\n",
       "      <th>66</th>\n",
       "      <td>HTML, CSS, JavaScript Essentials: 5-Day Coding...</td>\n",
       "      <td>13</td>\n",
       "      <td>5</td>\n",
       "      <td>1</td>\n",
       "      <td>65</td>\n",
       "      <td>Unleash your creativity in our fun and interac...</td>\n",
       "      <td></td>\n",
       "    </tr>\n",
       "  </tbody>\n",
       "</table>\n",
       "<p>67 rows × 7 columns</p>\n",
       "</div>"
      ],
      "text/plain": [
       "                                         courses name price per session   \n",
       "0                            LEARN SCRATCH PROGRAMING                20  \\\n",
       "1                    LEARN CLOUD COMPUTING BASICS-AWS                30   \n",
       "2                            LEARN MOBILE DEVELOPMENT                20   \n",
       "3                  LEARN CORE JAVA PROGRAMMING ONLINE                20   \n",
       "4                                      LEARN ROBOTICS                20   \n",
       "..                                                ...               ...   \n",
       "62           Scratch Playground: Create a Space Game!                20   \n",
       "63             Create Your Own Roblox Obstacle Course                20   \n",
       "64           Java Minecraft Creative or Survival Mode                20   \n",
       "65  AI Camp for Jobs & Business:Build Your own Cha...                25   \n",
       "66  HTML, CSS, JavaScript Essentials: 5-Day Coding...                13   \n",
       "\n",
       "   no. of lessons hour per session Total price   \n",
       "0              16                1         320  \\\n",
       "1              20                1         600   \n",
       "2              24                1         480   \n",
       "3              41                1         820   \n",
       "4              25                1         500   \n",
       "..            ...              ...         ...   \n",
       "62              8                1         160   \n",
       "63              8                1         160   \n",
       "64              7                1         140   \n",
       "65             10                1         250   \n",
       "66              5                1          65   \n",
       "\n",
       "                                          Description   \n",
       "0   \\nScratch Course is the foundation of coding a...  \\\n",
       "1   \\nIn this course we are going to cover the bas...   \n",
       "2   \\nMobile application development is the proces...   \n",
       "3   \\nJava is a very popular high-level, class-bas...   \n",
       "4   \\nYou can open all kinds of doors for advancem...   \n",
       "..                                                ...   \n",
       "62  Scratch Playground : Create a Space Game is an...   \n",
       "63  Roblox enthusiasts who want to learn how to de...   \n",
       "64  1. Title: Minecraft Java Programming for Begin...   \n",
       "65  🌟Welcome to the Chatbot Mastery Course! 🎓\\n\\nG...   \n",
       "66  Unleash your creativity in our fun and interac...   \n",
       "\n",
       "                                        Session names  \n",
       "0   Session 1Introduction to Scratch Programing,or...  \n",
       "1   Session 1Introduction,order:1,Session 2Overvie...  \n",
       "2   Session 1Introduction,order:1,Session 2Learnin...  \n",
       "3   Session 1 Introduction to JAVA (History and Fe...  \n",
       "4   Session 1 Introduction to Robotics,order:1,Ses...  \n",
       "..                                                ...  \n",
       "62                                                     \n",
       "63                                                     \n",
       "64                                                     \n",
       "65                                                     \n",
       "66                                                     \n",
       "\n",
       "[67 rows x 7 columns]"
      ]
     },
     "execution_count": 26,
     "metadata": {},
     "output_type": "execute_result"
    }
   ],
   "source": [
    "df"
   ]
  },
  {
   "cell_type": "code",
   "execution_count": 27,
   "id": "120ad36a",
   "metadata": {},
   "outputs": [],
   "source": [
    "df.to_csv(\"Brainloxinfo.csv\",index=False)"
   ]
  },
  {
   "cell_type": "code",
   "execution_count": null,
   "id": "0d03cbf7",
   "metadata": {},
   "outputs": [],
   "source": []
  }
 ],
 "metadata": {
  "kernelspec": {
   "display_name": "Python 3 (ipykernel)",
   "language": "python",
   "name": "python3"
  },
  "language_info": {
   "codemirror_mode": {
    "name": "ipython",
    "version": 3
   },
   "file_extension": ".py",
   "mimetype": "text/x-python",
   "name": "python",
   "nbconvert_exporter": "python",
   "pygments_lexer": "ipython3",
   "version": "3.10.9"
  }
 },
 "nbformat": 4,
 "nbformat_minor": 5
}
